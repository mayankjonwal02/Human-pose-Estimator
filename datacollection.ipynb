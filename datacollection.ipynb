{
 "cells": [
  {
   "cell_type": "code",
   "execution_count": 5,
   "metadata": {},
   "outputs": [],
   "source": [
    "import cv2\n",
    "import mediapipe as mp"
   ]
  },
  {
   "cell_type": "code",
   "execution_count": 6,
   "metadata": {},
   "outputs": [],
   "source": [
    "mp_holistics = mp.solutions.holistic\n",
    "holistic_model = mp_holistics.Holistic(\n",
    "    min_detection_confidence=0.5,\n",
    "    min_tracking_confidence=0.5\n",
    ")\n",
    "\n",
    "mp_drawing = mp.solutions.drawing_utils"
   ]
  },
  {
   "cell_type": "code",
   "execution_count": 20,
   "metadata": {},
   "outputs": [],
   "source": [
    "cap = cv2.VideoCapture(0)\n",
    "\n",
    "while cap.isOpened():\n",
    "\n",
    "    ret , frame = cap.read()\n",
    "    image = cv2.cvtColor(frame , cv2.COLOR_BGR2RGB)\n",
    "   \n",
    "    \n",
    "    results = holistic_model.process(image)\n",
    "\n",
    "    mp_drawing.draw_landmarks(\n",
    "        frame,\n",
    "        results.right_hand_landmarks,\n",
    "        mp_holistics.HAND_CONNECTIONS\n",
    "    )\n",
    "    mp_drawing.draw_landmarks(\n",
    "        frame,\n",
    "        results.left_hand_landmarks,\n",
    "        mp_holistics.HAND_CONNECTIONS\n",
    "    )\n",
    "\n",
    "    mp_drawing.draw_landmarks(\n",
    "        frame,\n",
    "        results.face_landmarks,\n",
    "        mp_holistics.FACEMESH_CONTOURS\n",
    "    \n",
    "    )\n",
    "    \n",
    "    frame = cv2.flip(frame , 1)\n",
    "    cv2.imshow(\"MyFrame\" , frame )\n",
    "    if cv2.waitKey(1) & 0xFF == ord('q'):\n",
    "        break\n",
    "\n",
    "cap.release()\n",
    "cv2.destroyAllWindows()"
   ]
  },
  {
   "cell_type": "code",
   "execution_count": null,
   "metadata": {},
   "outputs": [],
   "source": []
  }
 ],
 "metadata": {
  "kernelspec": {
   "display_name": "myenv",
   "language": "python",
   "name": "python3"
  },
  "language_info": {
   "codemirror_mode": {
    "name": "ipython",
    "version": 3
   },
   "file_extension": ".py",
   "mimetype": "text/x-python",
   "name": "python",
   "nbconvert_exporter": "python",
   "pygments_lexer": "ipython3",
   "version": "3.7.9"
  }
 },
 "nbformat": 4,
 "nbformat_minor": 2
}
