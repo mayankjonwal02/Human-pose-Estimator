import numpy as np
import pandas as pd
import tensorflow as tf
from sklearn.model_selection import train_test_split

# Create a small dataset with random values
num_labels = 4
sequences_per_label = 3
time_steps = 10
num_features = 5

data = []
labels = []

for label in range(1, num_labels + 1):
    for _ in range(sequences_per_label):
        sequence = np.random.rand(time_steps, num_features)
        data.append(sequence)
        labels.append(label)

df_data = pd.DataFrame(data)
df_labels = pd.DataFrame(labels, columns=["label"])
df = pd.concat([df_data, df_labels], axis=1)

# Split the data into training and testing sets
train_df, test_df = train_test_split(df, test_size=0.2, random_state=42)

# Create TensorFlow datasets
train_dataset = tf.data.Dataset.from_tensor_slices(
    (train_df.iloc[:, :-1].values, train_df["label"].values)
).shuffle(buffer_size=len(train_df)).batch(2)

# Display the first batch of the training dataset
for data_batch, labels_batch in train_dataset.take(1):
    print("Data Batch Shape:", data_batch.shape)
    print("Labels Batch Shape:", labels_batch.shape)

    # Print the actual data for the first sequence in the batch
    print("\nData for the first sequence in the batch:")
    for time_step in range(data_batch.shape[1]):
        print(f"Time Step {time_step + 1}: {data_batch[0, time_step, :]}")

    print("\nLabels Batch:")
    print(labels_batch.numpy())
