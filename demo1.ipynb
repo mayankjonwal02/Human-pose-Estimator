{
 "cells": [
  {
   "cell_type": "code",
   "execution_count": 179,
   "metadata": {},
   "outputs": [],
   "source": [
    "import numpy as np\n",
    "import tensorflow as tf\n",
    "from tensorflow.keras.models import Sequential\n",
    "from tensorflow.keras.layers import LSTM, Dense"
   ]
  },
  {
   "cell_type": "code",
   "execution_count": 208,
   "metadata": {},
   "outputs": [
    {
     "data": {
      "text/plain": [
       "array([0, 0, 2, 3, 4, 5, 1])"
      ]
     },
     "execution_count": 208,
     "metadata": {},
     "output_type": "execute_result"
    }
   ],
   "source": [
    "labels = np.array([0,0,2,3,4,5,1])\n",
    "features = np.array([\n",
    "    [1, 3, 2, 4, 5],\n",
    "    [2, 4, 5, 6, 7],\n",
    "    [3, 5, 6, 7, 8],\n",
    "    [4, 6, 7, 8, 9],\n",
    "    [5, 7, 8, 9, 10],\n",
    "    [6, 8, 9, 10, 11],\n",
    "    [7, 9, 10, 11, 12]\n",
    "])\n",
    "labels"
   ]
  },
  {
   "cell_type": "code",
   "execution_count": 218,
   "metadata": {},
   "outputs": [],
   "source": [
    "features = np.load(\"pose_features.npy\",allow_pickle=True)\n",
    "labels = np.load(\"pose_labels.npy\",allow_pickle=True)"
   ]
  },
  {
   "cell_type": "code",
   "execution_count": 209,
   "metadata": {},
   "outputs": [
    {
     "data": {
      "text/plain": [
       "{0: 0, 1: 1, 2: 2, 3: 3, 4: 4, 5: 5}"
      ]
     },
     "execution_count": 209,
     "metadata": {},
     "output_type": "execute_result"
    }
   ],
   "source": [
    "label_to_index = {label: idx for idx, label in enumerate(np.unique(labels))}\n",
    "label_to_index\n"
   ]
  },
  {
   "cell_type": "code",
   "execution_count": 198,
   "metadata": {},
   "outputs": [
    {
     "data": {
      "text/plain": [
       "{0: 1, 1: 2, 2: 3, 3: 4, 4: 5, 5: 6, 6: 7}"
      ]
     },
     "execution_count": 198,
     "metadata": {},
     "output_type": "execute_result"
    }
   ],
   "source": [
    "index_to_label = {idx: label for label, idx in label_to_index.items()}\n",
    "index_to_label"
   ]
  },
  {
   "cell_type": "code",
   "execution_count": 199,
   "metadata": {},
   "outputs": [
    {
     "data": {
      "text/plain": [
       "array([0, 1, 2, 3, 4, 5, 6])"
      ]
     },
     "execution_count": 199,
     "metadata": {},
     "output_type": "execute_result"
    }
   ],
   "source": [
    "labels_encoded = np.array([label_to_index[label] for label in labels])\n",
    "labels_encoded"
   ]
  },
  {
   "cell_type": "code",
   "execution_count": 219,
   "metadata": {},
   "outputs": [
    {
     "ename": "ValueError",
     "evalue": "cannot reshape array of size 145530 into shape (231,1,15)",
     "output_type": "error",
     "traceback": [
      "\u001b[1;31m---------------------------------------------------------------------------\u001b[0m",
      "\u001b[1;31mValueError\u001b[0m                                Traceback (most recent call last)",
      "\u001b[1;32m~\\AppData\\Local\\Temp\\ipykernel_21116\\2223425837.py\u001b[0m in \u001b[0;36m<module>\u001b[1;34m\u001b[0m\n\u001b[1;32m----> 1\u001b[1;33m \u001b[0mfeatures\u001b[0m \u001b[1;33m=\u001b[0m \u001b[0mfeatures\u001b[0m\u001b[1;33m.\u001b[0m\u001b[0mreshape\u001b[0m\u001b[1;33m(\u001b[0m\u001b[1;33m(\u001b[0m\u001b[0mfeatures\u001b[0m\u001b[1;33m.\u001b[0m\u001b[0mshape\u001b[0m\u001b[1;33m[\u001b[0m\u001b[1;36m0\u001b[0m\u001b[1;33m]\u001b[0m\u001b[1;33m,\u001b[0m \u001b[1;36m1\u001b[0m\u001b[1;33m,\u001b[0m \u001b[0mfeatures\u001b[0m\u001b[1;33m.\u001b[0m\u001b[0mshape\u001b[0m\u001b[1;33m[\u001b[0m\u001b[1;36m1\u001b[0m\u001b[1;33m]\u001b[0m\u001b[1;33m)\u001b[0m\u001b[1;33m)\u001b[0m\u001b[1;33m\u001b[0m\u001b[1;33m\u001b[0m\u001b[0m\n\u001b[0m",
      "\u001b[1;31mValueError\u001b[0m: cannot reshape array of size 145530 into shape (231,1,15)"
     ]
    }
   ],
   "source": [
    "features = features.reshape((features.shape[0], 1, features.shape[1]))"
   ]
  },
  {
   "cell_type": "code",
   "execution_count": 185,
   "metadata": {},
   "outputs": [
    {
     "data": {
      "text/plain": [
       "(7, 1, 5)"
      ]
     },
     "execution_count": 185,
     "metadata": {},
     "output_type": "execute_result"
    }
   ],
   "source": [
    "features.shape"
   ]
  },
  {
   "cell_type": "code",
   "execution_count": 231,
   "metadata": {},
   "outputs": [],
   "source": [
    "# Define the LSTM model\n",
    "model = Sequential()\n",
    "model.add(LSTM(units=50, input_shape=(features.shape[1], features.shape[2])))\n",
    "model.add(Dense(units=len(np.unique(labels)), activation='softmax'))\n",
    "\n",
    "# Compile the model\n",
    "model.compile(optimizer='adam', loss='sparse_categorical_crossentropy', metrics=['accuracy'])\n"
   ]
  },
  {
   "cell_type": "code",
   "execution_count": 232,
   "metadata": {},
   "outputs": [
    {
     "name": "stdout",
     "output_type": "stream",
     "text": [
      "Epoch 1/40\n",
      "231/231 [==============================] - 2s 3ms/step - loss: 1.0488 - accuracy: 0.4848\n",
      "Epoch 2/40\n",
      "231/231 [==============================] - 1s 3ms/step - loss: 0.7984 - accuracy: 0.6883\n",
      "Epoch 3/40\n",
      "231/231 [==============================] - 1s 3ms/step - loss: 0.9144 - accuracy: 0.6104\n",
      "Epoch 4/40\n",
      "231/231 [==============================] - 1s 2ms/step - loss: 0.6377 - accuracy: 0.7706\n",
      "Epoch 5/40\n",
      "231/231 [==============================] - 1s 3ms/step - loss: 0.4585 - accuracy: 0.8225\n",
      "Epoch 6/40\n",
      "231/231 [==============================] - 1s 3ms/step - loss: 0.2692 - accuracy: 0.8831\n",
      "Epoch 7/40\n",
      "231/231 [==============================] - 1s 3ms/step - loss: 0.2834 - accuracy: 0.8831\n",
      "Epoch 8/40\n",
      "231/231 [==============================] - 1s 3ms/step - loss: 0.1418 - accuracy: 0.9567\n",
      "Epoch 9/40\n",
      "231/231 [==============================] - 1s 3ms/step - loss: 0.2496 - accuracy: 0.9004\n",
      "Epoch 10/40\n",
      "231/231 [==============================] - 1s 3ms/step - loss: 0.1782 - accuracy: 0.9524\n",
      "Epoch 11/40\n",
      "231/231 [==============================] - 1s 2ms/step - loss: 0.0926 - accuracy: 0.9784\n",
      "Epoch 12/40\n",
      "231/231 [==============================] - 1s 3ms/step - loss: 0.2853 - accuracy: 0.8961\n",
      "Epoch 13/40\n",
      "231/231 [==============================] - 1s 2ms/step - loss: 0.1427 - accuracy: 0.9524\n",
      "Epoch 14/40\n",
      "231/231 [==============================] - 1s 2ms/step - loss: 0.1020 - accuracy: 0.9610\n",
      "Epoch 15/40\n",
      "231/231 [==============================] - 1s 3ms/step - loss: 0.1043 - accuracy: 0.9610\n",
      "Epoch 16/40\n",
      "231/231 [==============================] - 1s 3ms/step - loss: 0.2133 - accuracy: 0.9048\n",
      "Epoch 17/40\n",
      "231/231 [==============================] - 1s 3ms/step - loss: 0.0855 - accuracy: 0.9697\n",
      "Epoch 18/40\n",
      "231/231 [==============================] - 1s 2ms/step - loss: 0.1279 - accuracy: 0.9524\n",
      "Epoch 19/40\n",
      "231/231 [==============================] - 1s 2ms/step - loss: 0.0581 - accuracy: 0.9870\n",
      "Epoch 20/40\n",
      "231/231 [==============================] - 1s 2ms/step - loss: 0.0725 - accuracy: 0.9870\n",
      "Epoch 21/40\n",
      "231/231 [==============================] - 1s 3ms/step - loss: 0.0877 - accuracy: 0.9610\n",
      "Epoch 22/40\n",
      "231/231 [==============================] - 1s 3ms/step - loss: 0.0665 - accuracy: 0.9784\n",
      "Epoch 23/40\n",
      "231/231 [==============================] - 1s 3ms/step - loss: 0.2062 - accuracy: 0.9437\n",
      "Epoch 24/40\n",
      "231/231 [==============================] - 1s 3ms/step - loss: 0.3106 - accuracy: 0.8831\n",
      "Epoch 25/40\n",
      "231/231 [==============================] - 1s 2ms/step - loss: 0.0917 - accuracy: 0.9697\n",
      "Epoch 26/40\n",
      "231/231 [==============================] - 1s 2ms/step - loss: 0.2586 - accuracy: 0.9134\n",
      "Epoch 27/40\n",
      "231/231 [==============================] - 1s 3ms/step - loss: 0.0432 - accuracy: 0.9827\n",
      "Epoch 28/40\n",
      "231/231 [==============================] - 1s 2ms/step - loss: 0.1344 - accuracy: 0.9394\n",
      "Epoch 29/40\n",
      "231/231 [==============================] - 1s 2ms/step - loss: 0.0352 - accuracy: 0.9827\n",
      "Epoch 30/40\n",
      "231/231 [==============================] - 1s 3ms/step - loss: 0.0585 - accuracy: 0.9784\n",
      "Epoch 31/40\n",
      "231/231 [==============================] - 1s 3ms/step - loss: 0.0220 - accuracy: 0.9957\n",
      "Epoch 32/40\n",
      "231/231 [==============================] - 1s 3ms/step - loss: 0.0673 - accuracy: 0.9740\n",
      "Epoch 33/40\n",
      "231/231 [==============================] - 1s 3ms/step - loss: 0.0144 - accuracy: 1.0000\n",
      "Epoch 34/40\n",
      "231/231 [==============================] - 1s 2ms/step - loss: 0.0930 - accuracy: 0.9654\n",
      "Epoch 35/40\n",
      "231/231 [==============================] - 1s 2ms/step - loss: 0.0507 - accuracy: 0.9827\n",
      "Epoch 36/40\n",
      "231/231 [==============================] - 1s 2ms/step - loss: 0.0562 - accuracy: 0.9740\n",
      "Epoch 37/40\n",
      "231/231 [==============================] - 1s 2ms/step - loss: 0.0600 - accuracy: 0.9697\n",
      "Epoch 38/40\n",
      "231/231 [==============================] - 1s 2ms/step - loss: 0.4345 - accuracy: 0.8571\n",
      "Epoch 39/40\n",
      "231/231 [==============================] - 1s 3ms/step - loss: 0.1994 - accuracy: 0.9351\n",
      "Epoch 40/40\n",
      "231/231 [==============================] - 1s 2ms/step - loss: 0.0737 - accuracy: 0.9784\n"
     ]
    },
    {
     "data": {
      "text/plain": [
       "<keras.callbacks.History at 0x1c9e2a65708>"
      ]
     },
     "execution_count": 232,
     "metadata": {},
     "output_type": "execute_result"
    }
   ],
   "source": [
    "model.fit(features, labels, epochs=40, batch_size=1)\n"
   ]
  },
  {
   "cell_type": "code",
   "execution_count": 234,
   "metadata": {},
   "outputs": [
    {
     "data": {
      "text/plain": [
       "array([1, 1, 1, 1, 1, 1, 1, 1, 1, 1, 1, 1, 1, 1, 1, 1, 1, 1, 1, 1, 1, 1,\n",
       "       1, 1, 1, 1, 1, 1, 1, 1, 1, 1, 1, 1, 1, 1, 1, 1, 1, 1, 1, 1, 1, 1,\n",
       "       1, 1, 1, 1, 1, 1, 1, 1, 1, 1, 1, 1, 1, 1, 1, 1, 1, 1, 1, 1, 1, 1,\n",
       "       1, 1, 1, 1, 2, 2, 2, 2, 2, 2, 2, 2, 2, 2, 2, 2, 2, 2, 2, 2, 2, 2,\n",
       "       2, 2, 2, 2, 2, 2, 2, 2, 2, 2, 2, 2, 2, 2, 2, 2, 2, 2, 2, 2, 2, 2,\n",
       "       2, 2, 2, 2, 2, 2, 2, 2, 2, 2, 2, 2, 2, 2, 2, 2, 2, 2, 2, 2, 0, 0,\n",
       "       0, 0, 0, 0, 0, 0, 0, 0, 0, 0, 0, 0, 0, 0, 0, 0, 0, 0, 0, 0, 0, 0,\n",
       "       0, 0, 0, 0, 0, 0, 0, 0, 0, 0, 0, 0, 0, 0, 0, 0, 0, 0, 0, 0, 0, 0,\n",
       "       0, 0, 0, 0, 0, 0, 0, 0, 0, 0, 0, 0, 0, 0, 0, 0, 0, 0, 0, 0, 0, 0,\n",
       "       0, 0, 0, 0, 0, 0, 0, 0, 0, 0, 0, 0, 0, 0, 0, 0, 0, 0, 0, 0, 0, 0,\n",
       "       0, 0, 0, 0, 0, 0, 0, 0, 0, 0, 0])"
      ]
     },
     "execution_count": 234,
     "metadata": {},
     "output_type": "execute_result"
    }
   ],
   "source": [
    "labels"
   ]
  },
  {
   "cell_type": "code",
   "execution_count": 233,
   "metadata": {},
   "outputs": [
    {
     "name": "stderr",
     "output_type": "stream",
     "text": [
      "WARNING:absl:Found untraced functions such as _update_step_xla, lstm_cell_16_layer_call_fn, lstm_cell_16_layer_call_and_return_conditional_losses while saving (showing 3 of 3). These functions will not be directly callable after loading.\n"
     ]
    },
    {
     "name": "stdout",
     "output_type": "stream",
     "text": [
      "INFO:tensorflow:Assets written to: Pose_model_1\\assets\n"
     ]
    },
    {
     "name": "stderr",
     "output_type": "stream",
     "text": [
      "INFO:tensorflow:Assets written to: Pose_model_1\\assets\n"
     ]
    }
   ],
   "source": [
    "model.save(\"Pose_model_1\")"
   ]
  },
  {
   "cell_type": "code",
   "execution_count": 236,
   "metadata": {},
   "outputs": [
    {
     "name": "stdout",
     "output_type": "stream",
     "text": [
      "WARNING:tensorflow:5 out of the last 5 calls to <function Model.make_test_function.<locals>.test_function at 0x000001C9D0B36798> triggered tf.function retracing. Tracing is expensive and the excessive number of tracings could be due to (1) creating @tf.function repeatedly in a loop, (2) passing tensors with different shapes, (3) passing Python objects instead of tensors. For (1), please define your @tf.function outside of the loop. For (2), @tf.function has reduce_retracing=True option that can avoid unnecessary retracing. For (3), please refer to https://www.tensorflow.org/guide/function#controlling_retracing and https://www.tensorflow.org/api_docs/python/tf/function for  more details.\n"
     ]
    },
    {
     "name": "stderr",
     "output_type": "stream",
     "text": [
      "WARNING:tensorflow:5 out of the last 5 calls to <function Model.make_test_function.<locals>.test_function at 0x000001C9D0B36798> triggered tf.function retracing. Tracing is expensive and the excessive number of tracings could be due to (1) creating @tf.function repeatedly in a loop, (2) passing tensors with different shapes, (3) passing Python objects instead of tensors. For (1), please define your @tf.function outside of the loop. For (2), @tf.function has reduce_retracing=True option that can avoid unnecessary retracing. For (3), please refer to https://www.tensorflow.org/guide/function#controlling_retracing and https://www.tensorflow.org/api_docs/python/tf/function for  more details.\n"
     ]
    },
    {
     "name": "stdout",
     "output_type": "stream",
     "text": [
      "8/8 [==============================] - 0s 2ms/step - loss: 0.0124 - accuracy: 1.0000\n",
      "Loss: 0.01242074090987444, Accuracy: 1.0\n"
     ]
    }
   ],
   "source": [
    "# Evaluate the model\n",
    "loss, accuracy = model.evaluate(features, labels)\n",
    "print(f\"Loss: {loss}, Accuracy: {accuracy}\")"
   ]
  },
  {
   "cell_type": "code",
   "execution_count": 121,
   "metadata": {},
   "outputs": [
    {
     "name": "stdout",
     "output_type": "stream",
     "text": [
      "1/1 [==============================] - 0s 251ms/step\n",
      "Predicted Labels: ['mayank']\n"
     ]
    }
   ],
   "source": [
    "# Reshape the input for prediction (samples, time steps, features)\n",
    "input_sequence = np.array([[2, 4, 5, 6, 7]])\n",
    "input_sequence = input_sequence.reshape((input_sequence.shape[0], 1, input_sequence.shape[1]))\n",
    "\n",
    "# Make predictions\n",
    "predictions = model.predict(input_sequence)\n",
    "predicted_labels = [index_to_label[np.argmax(prediction)] for prediction in predictions]\n",
    "print(\"Predicted Labels:\", predicted_labels)\n"
   ]
  },
  {
   "cell_type": "code",
   "execution_count": 174,
   "metadata": {},
   "outputs": [],
   "source": [
    "labels = np.array([\"mayank\", \"punyay\", \"mayank\", \"manoj\", \"urmila\", \"punyay\", \"manoj\"])\n",
    "features = [\n",
    "    [\n",
    "        [1,2,3],\n",
    "        [2,3,4],\n",
    "        [3,4,5],\n",
    "        [4,5,6],\n",
    "        [5,6,7]\n",
    "    ],\n",
    "    [\n",
    "        [2,3,4],\n",
    "        [3,4,5],\n",
    "        [4,5,6],\n",
    "        [5,6,7],\n",
    "        [6,7,8]\n",
    "    ],\n",
    "    [\n",
    "        [3,4,5],\n",
    "        [4,5,6],\n",
    "        [5,6,7],\n",
    "        [6,7,8],\n",
    "        [7,8,9]\n",
    "    ],\n",
    "    [\n",
    "        [4,5,6],\n",
    "        [5,6,7],\n",
    "        [6,7,8],\n",
    "        [7,8,9],\n",
    "        [8,9,10]\n",
    "    ],\n",
    "    [\n",
    "        [5,6,7],\n",
    "        [6,7,8],\n",
    "        [7,8,9],\n",
    "        [8,9,10],\n",
    "        [9,10,11]\n",
    "    ],\n",
    "    [\n",
    "        [6,7,8],\n",
    "        [7,8,9],\n",
    "        [8,9,10],\n",
    "        [9,10,11],\n",
    "        [10,11,12]\n",
    "    ],\n",
    "    [\n",
    "        [7,8,9],\n",
    "        [8,9,10],\n",
    "        [9,10,11],\n",
    "        [10,11,12],\n",
    "        [11,12,13]\n",
    "    ]\n",
    "]"
   ]
  },
  {
   "cell_type": "code",
   "execution_count": 175,
   "metadata": {},
   "outputs": [],
   "source": [
    "label_to_index = {label: idx for idx, label in enumerate(np.unique(labels))}\n",
    "index_to_label = {idx: label for label, idx in label_to_index.items()}\n",
    "labels_encoded = np.array([label_to_index[label] for label in labels])"
   ]
  },
  {
   "cell_type": "code",
   "execution_count": 176,
   "metadata": {},
   "outputs": [
    {
     "data": {
      "text/plain": [
       "{'manoj': 0, 'mayank': 1, 'punyay': 2, 'urmila': 3}"
      ]
     },
     "execution_count": 176,
     "metadata": {},
     "output_type": "execute_result"
    }
   ],
   "source": [
    "label_to_index"
   ]
  },
  {
   "cell_type": "code",
   "execution_count": 178,
   "metadata": {},
   "outputs": [
    {
     "data": {
      "text/plain": [
       "array([1, 2, 1, 0, 3, 2, 0])"
      ]
     },
     "execution_count": 178,
     "metadata": {},
     "output_type": "execute_result"
    }
   ],
   "source": [
    "features = np.array(features)\n",
    "labels_encoded"
   ]
  },
  {
   "cell_type": "code",
   "execution_count": 126,
   "metadata": {},
   "outputs": [],
   "source": [
    "# Define the LSTM model\n",
    "model = Sequential()\n",
    "model.add(LSTM(units=50, input_shape=(features.shape[1], features.shape[2])))\n",
    "model.add(Dense(units=len(np.unique(labels)), activation='softmax'))"
   ]
  },
  {
   "cell_type": "code",
   "execution_count": 127,
   "metadata": {},
   "outputs": [],
   "source": [
    "# Compile the model\n",
    "model.compile(optimizer='adam', loss='sparse_categorical_crossentropy', metrics=['accuracy'])"
   ]
  },
  {
   "cell_type": "code",
   "execution_count": 128,
   "metadata": {},
   "outputs": [
    {
     "name": "stdout",
     "output_type": "stream",
     "text": [
      "Epoch 1/100\n",
      "7/7 [==============================] - 1s 2ms/step - loss: 1.5054 - accuracy: 0.2857\n",
      "Epoch 2/100\n",
      "7/7 [==============================] - 0s 2ms/step - loss: 1.4251 - accuracy: 0.2857\n",
      "Epoch 3/100\n",
      "7/7 [==============================] - 0s 2ms/step - loss: 1.3827 - accuracy: 0.2857\n",
      "Epoch 4/100\n",
      "7/7 [==============================] - 0s 2ms/step - loss: 1.3764 - accuracy: 0.2857\n",
      "Epoch 5/100\n",
      "7/7 [==============================] - 0s 2ms/step - loss: 1.3550 - accuracy: 0.2857\n",
      "Epoch 6/100\n",
      "7/7 [==============================] - 0s 2ms/step - loss: 1.3342 - accuracy: 0.2857\n",
      "Epoch 7/100\n",
      "7/7 [==============================] - 0s 2ms/step - loss: 1.3257 - accuracy: 0.2857\n",
      "Epoch 8/100\n",
      "7/7 [==============================] - 0s 2ms/step - loss: 1.3337 - accuracy: 0.2857\n",
      "Epoch 9/100\n",
      "7/7 [==============================] - 0s 2ms/step - loss: 1.3119 - accuracy: 0.2857\n",
      "Epoch 10/100\n",
      "7/7 [==============================] - 0s 2ms/step - loss: 1.3036 - accuracy: 0.4286\n",
      "Epoch 11/100\n",
      "7/7 [==============================] - 0s 2ms/step - loss: 1.3033 - accuracy: 0.4286\n",
      "Epoch 12/100\n",
      "7/7 [==============================] - 0s 1ms/step - loss: 1.2954 - accuracy: 0.2857\n",
      "Epoch 13/100\n",
      "7/7 [==============================] - 0s 2ms/step - loss: 1.2823 - accuracy: 0.5714\n",
      "Epoch 14/100\n",
      "7/7 [==============================] - 0s 1ms/step - loss: 1.2731 - accuracy: 0.5714\n",
      "Epoch 15/100\n",
      "7/7 [==============================] - 0s 2ms/step - loss: 1.2731 - accuracy: 0.5714\n",
      "Epoch 16/100\n",
      "7/7 [==============================] - 0s 2ms/step - loss: 1.2623 - accuracy: 0.5714\n",
      "Epoch 17/100\n",
      "7/7 [==============================] - 0s 2ms/step - loss: 1.2539 - accuracy: 0.4286\n",
      "Epoch 18/100\n",
      "7/7 [==============================] - 0s 2ms/step - loss: 1.2443 - accuracy: 0.4286\n",
      "Epoch 19/100\n",
      "7/7 [==============================] - 0s 2ms/step - loss: 1.2359 - accuracy: 0.4286\n",
      "Epoch 20/100\n",
      "7/7 [==============================] - 0s 2ms/step - loss: 1.2268 - accuracy: 0.4286\n",
      "Epoch 21/100\n",
      "7/7 [==============================] - 0s 2ms/step - loss: 1.2196 - accuracy: 0.4286\n",
      "Epoch 22/100\n",
      "7/7 [==============================] - 0s 2ms/step - loss: 1.2380 - accuracy: 0.4286\n",
      "Epoch 23/100\n",
      "7/7 [==============================] - 0s 1ms/step - loss: 1.2149 - accuracy: 0.4286\n",
      "Epoch 24/100\n",
      "7/7 [==============================] - 0s 2ms/step - loss: 1.1976 - accuracy: 0.4286\n",
      "Epoch 25/100\n",
      "7/7 [==============================] - 0s 2ms/step - loss: 1.1820 - accuracy: 0.5714\n",
      "Epoch 26/100\n",
      "7/7 [==============================] - 0s 2ms/step - loss: 1.1834 - accuracy: 0.4286\n",
      "Epoch 27/100\n",
      "7/7 [==============================] - 0s 1ms/step - loss: 1.1948 - accuracy: 0.4286\n",
      "Epoch 28/100\n",
      "7/7 [==============================] - 0s 2ms/step - loss: 1.1906 - accuracy: 0.4286\n",
      "Epoch 29/100\n",
      "7/7 [==============================] - 0s 2ms/step - loss: 1.1510 - accuracy: 0.4286\n",
      "Epoch 30/100\n",
      "7/7 [==============================] - 0s 2ms/step - loss: 1.1724 - accuracy: 0.2857\n",
      "Epoch 31/100\n",
      "7/7 [==============================] - 0s 2ms/step - loss: 1.1383 - accuracy: 0.2857\n",
      "Epoch 32/100\n",
      "7/7 [==============================] - 0s 2ms/step - loss: 1.1473 - accuracy: 0.4286\n",
      "Epoch 33/100\n",
      "7/7 [==============================] - 0s 1ms/step - loss: 1.1280 - accuracy: 0.4286\n",
      "Epoch 34/100\n",
      "7/7 [==============================] - 0s 2ms/step - loss: 1.1368 - accuracy: 0.2857\n",
      "Epoch 35/100\n",
      "7/7 [==============================] - 0s 2ms/step - loss: 1.1165 - accuracy: 0.2857\n",
      "Epoch 36/100\n",
      "7/7 [==============================] - 0s 2ms/step - loss: 1.1126 - accuracy: 0.2857\n",
      "Epoch 37/100\n",
      "7/7 [==============================] - 0s 1ms/step - loss: 1.0927 - accuracy: 0.4286\n",
      "Epoch 38/100\n",
      "7/7 [==============================] - 0s 2ms/step - loss: 1.0880 - accuracy: 0.4286\n",
      "Epoch 39/100\n",
      "7/7 [==============================] - 0s 2ms/step - loss: 1.0731 - accuracy: 0.4286\n",
      "Epoch 40/100\n",
      "7/7 [==============================] - 0s 2ms/step - loss: 1.0716 - accuracy: 0.4286\n",
      "Epoch 41/100\n",
      "7/7 [==============================] - 0s 3ms/step - loss: 1.0790 - accuracy: 0.4286\n",
      "Epoch 42/100\n",
      "7/7 [==============================] - 0s 3ms/step - loss: 1.0495 - accuracy: 0.5714\n",
      "Epoch 43/100\n",
      "7/7 [==============================] - 0s 3ms/step - loss: 1.0776 - accuracy: 0.4286\n",
      "Epoch 44/100\n",
      "7/7 [==============================] - 0s 2ms/step - loss: 1.0548 - accuracy: 0.4286\n",
      "Epoch 45/100\n",
      "7/7 [==============================] - 0s 2ms/step - loss: 1.0467 - accuracy: 0.4286\n",
      "Epoch 46/100\n",
      "7/7 [==============================] - 0s 2ms/step - loss: 1.0391 - accuracy: 0.4286\n",
      "Epoch 47/100\n",
      "7/7 [==============================] - 0s 2ms/step - loss: 1.0524 - accuracy: 0.2857\n",
      "Epoch 48/100\n",
      "7/7 [==============================] - 0s 2ms/step - loss: 1.0343 - accuracy: 0.4286\n",
      "Epoch 49/100\n",
      "7/7 [==============================] - 0s 1ms/step - loss: 1.0185 - accuracy: 0.4286\n",
      "Epoch 50/100\n",
      "7/7 [==============================] - 0s 1ms/step - loss: 1.0077 - accuracy: 0.4286\n",
      "Epoch 51/100\n",
      "7/7 [==============================] - 0s 2ms/step - loss: 1.0365 - accuracy: 0.4286\n",
      "Epoch 52/100\n",
      "7/7 [==============================] - 0s 2ms/step - loss: 1.0463 - accuracy: 0.5714\n",
      "Epoch 53/100\n",
      "7/7 [==============================] - 0s 2ms/step - loss: 1.0095 - accuracy: 0.4286\n",
      "Epoch 54/100\n",
      "7/7 [==============================] - 0s 2ms/step - loss: 1.0209 - accuracy: 0.4286\n",
      "Epoch 55/100\n",
      "7/7 [==============================] - 0s 2ms/step - loss: 0.9931 - accuracy: 0.5714\n",
      "Epoch 56/100\n",
      "7/7 [==============================] - 0s 2ms/step - loss: 0.9947 - accuracy: 0.4286\n",
      "Epoch 57/100\n",
      "7/7 [==============================] - 0s 2ms/step - loss: 0.9842 - accuracy: 0.4286\n",
      "Epoch 58/100\n",
      "7/7 [==============================] - 0s 2ms/step - loss: 0.9785 - accuracy: 0.5714\n",
      "Epoch 59/100\n",
      "7/7 [==============================] - 0s 2ms/step - loss: 0.9694 - accuracy: 0.5714\n",
      "Epoch 60/100\n",
      "7/7 [==============================] - 0s 2ms/step - loss: 0.9675 - accuracy: 0.5714\n",
      "Epoch 61/100\n",
      "7/7 [==============================] - 0s 2ms/step - loss: 0.9724 - accuracy: 0.5714\n",
      "Epoch 62/100\n",
      "7/7 [==============================] - 0s 2ms/step - loss: 0.9500 - accuracy: 0.5714\n",
      "Epoch 63/100\n",
      "7/7 [==============================] - 0s 2ms/step - loss: 0.9547 - accuracy: 0.5714\n",
      "Epoch 64/100\n",
      "7/7 [==============================] - 0s 2ms/step - loss: 0.9514 - accuracy: 0.5714\n",
      "Epoch 65/100\n",
      "7/7 [==============================] - 0s 2ms/step - loss: 0.9523 - accuracy: 0.5714\n",
      "Epoch 66/100\n",
      "7/7 [==============================] - 0s 2ms/step - loss: 0.9419 - accuracy: 0.5714\n",
      "Epoch 67/100\n",
      "7/7 [==============================] - 0s 2ms/step - loss: 0.9210 - accuracy: 0.5714\n",
      "Epoch 68/100\n",
      "7/7 [==============================] - 0s 2ms/step - loss: 0.9348 - accuracy: 0.5714\n",
      "Epoch 69/100\n",
      "7/7 [==============================] - 0s 2ms/step - loss: 0.9393 - accuracy: 0.5714\n",
      "Epoch 70/100\n",
      "7/7 [==============================] - 0s 1ms/step - loss: 0.9622 - accuracy: 0.5714\n",
      "Epoch 71/100\n",
      "7/7 [==============================] - 0s 2ms/step - loss: 0.9631 - accuracy: 0.5714\n",
      "Epoch 72/100\n",
      "7/7 [==============================] - 0s 2ms/step - loss: 1.0175 - accuracy: 0.4286\n",
      "Epoch 73/100\n",
      "7/7 [==============================] - 0s 1ms/step - loss: 0.9796 - accuracy: 0.5714\n",
      "Epoch 74/100\n",
      "7/7 [==============================] - 0s 2ms/step - loss: 0.9329 - accuracy: 0.5714\n",
      "Epoch 75/100\n",
      "7/7 [==============================] - 0s 2ms/step - loss: 0.9406 - accuracy: 0.4286\n",
      "Epoch 76/100\n",
      "7/7 [==============================] - 0s 2ms/step - loss: 0.9174 - accuracy: 0.5714\n",
      "Epoch 77/100\n",
      "7/7 [==============================] - 0s 2ms/step - loss: 0.9287 - accuracy: 0.5714\n",
      "Epoch 78/100\n",
      "7/7 [==============================] - 0s 2ms/step - loss: 0.8840 - accuracy: 0.5714\n",
      "Epoch 79/100\n",
      "7/7 [==============================] - 0s 2ms/step - loss: 0.8977 - accuracy: 0.5714\n",
      "Epoch 80/100\n",
      "7/7 [==============================] - 0s 2ms/step - loss: 0.8798 - accuracy: 0.5714\n",
      "Epoch 81/100\n",
      "7/7 [==============================] - 0s 1ms/step - loss: 0.8844 - accuracy: 0.5714\n",
      "Epoch 82/100\n",
      "7/7 [==============================] - 0s 2ms/step - loss: 0.8710 - accuracy: 0.5714\n",
      "Epoch 83/100\n",
      "7/7 [==============================] - 0s 2ms/step - loss: 0.8633 - accuracy: 0.5714\n",
      "Epoch 84/100\n",
      "7/7 [==============================] - 0s 2ms/step - loss: 0.8599 - accuracy: 0.5714\n",
      "Epoch 85/100\n",
      "7/7 [==============================] - 0s 2ms/step - loss: 0.8577 - accuracy: 0.5714\n",
      "Epoch 86/100\n",
      "7/7 [==============================] - 0s 1ms/step - loss: 0.8447 - accuracy: 0.5714\n",
      "Epoch 87/100\n",
      "7/7 [==============================] - 0s 2ms/step - loss: 0.8484 - accuracy: 0.5714\n",
      "Epoch 88/100\n",
      "7/7 [==============================] - 0s 2ms/step - loss: 0.8435 - accuracy: 0.7143\n",
      "Epoch 89/100\n",
      "7/7 [==============================] - 0s 2ms/step - loss: 0.8327 - accuracy: 0.7143\n",
      "Epoch 90/100\n",
      "7/7 [==============================] - 0s 2ms/step - loss: 0.8323 - accuracy: 0.5714\n",
      "Epoch 91/100\n",
      "7/7 [==============================] - 0s 2ms/step - loss: 0.8341 - accuracy: 0.5714\n",
      "Epoch 92/100\n",
      "7/7 [==============================] - 0s 2ms/step - loss: 0.8181 - accuracy: 0.7143\n",
      "Epoch 93/100\n",
      "7/7 [==============================] - 0s 2ms/step - loss: 0.8150 - accuracy: 0.7143\n",
      "Epoch 94/100\n",
      "7/7 [==============================] - 0s 2ms/step - loss: 0.8137 - accuracy: 0.7143\n",
      "Epoch 95/100\n",
      "7/7 [==============================] - 0s 3ms/step - loss: 0.8159 - accuracy: 0.7143\n",
      "Epoch 96/100\n",
      "7/7 [==============================] - 0s 2ms/step - loss: 0.7999 - accuracy: 0.7143\n",
      "Epoch 97/100\n",
      "7/7 [==============================] - 0s 2ms/step - loss: 0.7984 - accuracy: 0.7143\n",
      "Epoch 98/100\n",
      "7/7 [==============================] - 0s 2ms/step - loss: 0.7874 - accuracy: 0.7143\n",
      "Epoch 99/100\n",
      "7/7 [==============================] - 0s 1ms/step - loss: 0.7928 - accuracy: 0.7143\n",
      "Epoch 100/100\n",
      "7/7 [==============================] - 0s 2ms/step - loss: 0.7801 - accuracy: 0.7143\n"
     ]
    },
    {
     "data": {
      "text/plain": [
       "<keras.callbacks.History at 0x1c9c8ce7f48>"
      ]
     },
     "execution_count": 128,
     "metadata": {},
     "output_type": "execute_result"
    }
   ],
   "source": [
    "# Train the model\n",
    "model.fit(features, labels_encoded, epochs=100, batch_size=1)"
   ]
  },
  {
   "cell_type": "code",
   "execution_count": 129,
   "metadata": {},
   "outputs": [
    {
     "name": "stdout",
     "output_type": "stream",
     "text": [
      "1/1 [==============================] - 0s 299ms/step - loss: 0.7642 - accuracy: 0.7143\n",
      "Loss: 0.7642003893852234, Accuracy: 0.7142857313156128\n"
     ]
    }
   ],
   "source": [
    "# Evaluate the model\n",
    "loss, accuracy = model.evaluate(features, labels_encoded)\n",
    "print(f\"Loss: {loss}, Accuracy: {accuracy}\")"
   ]
  },
  {
   "cell_type": "code",
   "execution_count": 130,
   "metadata": {},
   "outputs": [
    {
     "name": "stdout",
     "output_type": "stream",
     "text": [
      "1/1 [==============================] - 0s 248ms/step\n",
      "Predicted Labels: ['mayank', 'mayank', 'mayank', 'manoj', 'urmila', 'manoj', 'manoj']\n"
     ]
    }
   ],
   "source": [
    "# Make predictions\n",
    "predictions = model.predict(features)\n",
    "predicted_labels = [index_to_label[np.argmax(prediction)] for prediction in predictions]\n",
    "print(\"Predicted Labels:\", predicted_labels)"
   ]
  },
  {
   "cell_type": "code",
   "execution_count": 131,
   "metadata": {},
   "outputs": [],
   "source": [
    "features = [\n",
    "    [\n",
    "        [1,2,3],\n",
    "        [2,3,4],\n",
    "        [3,4,5],\n",
    "        [4,5,6],\n",
    "        [5,6,7]\n",
    "    ],\n",
    "    [\n",
    "        [2,3,4],\n",
    "        [3,4,5],\n",
    "        [4,5,6],\n",
    "        [5,6,7],\n",
    "        [6,7,8]\n",
    "    ],\n",
    "    [\n",
    "        [3,4,5],\n",
    "        [4,5,6],\n",
    "        [5,6,7],\n",
    "        [6,7,8],\n",
    "        [7,8,9]\n",
    "    ],\n",
    "    [\n",
    "        [4,5,6],\n",
    "        [5,6,7],\n",
    "        [6,7,8],\n",
    "        [7,8,9],\n",
    "        [8,9,10]\n",
    "    ],\n",
    "    [\n",
    "        [5,6,7],\n",
    "        [6,7,8],\n",
    "        [7,8,9],\n",
    "        [8,9,10],\n",
    "        [9,10,11]\n",
    "    ],\n",
    "    [\n",
    "        [6,7,8],\n",
    "        [7,8,9],\n",
    "        [8,9,10],\n",
    "        [9,10,11],\n",
    "        [10,11,12]\n",
    "    ],\n",
    "    [\n",
    "        [7,8,9],\n",
    "        [8,9,10],\n",
    "        [9,10,11],\n",
    "        [10,11,12],\n",
    "        [11,12,13]\n",
    "    ]\n",
    "] \n",
    "\n",
    "np.save('features.npy', features)\n"
   ]
  },
  {
   "cell_type": "code",
   "execution_count": 132,
   "metadata": {},
   "outputs": [],
   "source": [
    "import h5py\n",
    "\n",
    "with h5py.File('features.h5', 'w') as hf:\n",
    "    hf.create_dataset('features', data=features)\n"
   ]
  },
  {
   "cell_type": "code",
   "execution_count": 133,
   "metadata": {},
   "outputs": [],
   "source": [
    "features = [\n",
    "    [\n",
    "        [1,2,3],\n",
    "        [2,3,4],\n",
    "        [3,4,5],\n",
    "        [4,5,6],\n",
    "        [5,6,7]\n",
    "    ],\n",
    "    [\n",
    "        [2,3,4],\n",
    "        [3,4,5],\n",
    "        [4,5,6],\n",
    "        [5,6,7],\n",
    "        [6,7,8]\n",
    "    ],\n",
    "    [\n",
    "        [3,4,5],\n",
    "        [4,5,6],\n",
    "        [5,6,7],\n",
    "        [6,7,8],\n",
    "        [7,8,9]\n",
    "    ],\n",
    "    [\n",
    "        [4,5,6],\n",
    "        [5,6,7],\n",
    "        [6,7,8],\n",
    "        [7,8,9],\n",
    "        [8,9,10]\n",
    "    ],\n",
    "    [\n",
    "        [5,6,7],\n",
    "        [6,7,8],\n",
    "        [7,8,9],\n",
    "        [8,9,10],\n",
    "        [9,10,11]\n",
    "    ],\n",
    "    [\n",
    "        [6,7,8],\n",
    "        [7,8,9],\n",
    "        [8,9,10],\n",
    "        [9,10,11],\n",
    "        [10,11,12]\n",
    "    ],\n",
    "    [\n",
    "        [7,8,9],\n",
    "        [8,9,10],\n",
    "        [9,10,11],\n",
    "        [10,11,12],\n",
    "        [11,12,13]\n",
    "    ]\n",
    "] \n",
    "\n",
    "\n"
   ]
  },
  {
   "cell_type": "code",
   "execution_count": 134,
   "metadata": {},
   "outputs": [],
   "source": [
    "import pandas as pd\n",
    "data = {\n",
    "    \"t1\":[[1,2,3],[2,1,3],[1,2,3]],\n",
    "       \"t2\": [[2,3,4],[2,1,3],[1,2,3]],\n",
    "        \"t3\" :[[3,4,5],[2,1,3],[1,2,3]],\n",
    "        \"t4\":[ [4,5,6],[2,1,3],[1,2,3]],\n",
    "        \"t5\":[[5,6,7],[2,1,3],[1,2,3]]\n",
    "}\n",
    "\n",
    "new_data = pd.DataFrame(data)\n",
    "new_data.to_csv(\"hello.csv\" , index=False)"
   ]
  },
  {
   "cell_type": "code",
   "execution_count": 135,
   "metadata": {},
   "outputs": [
    {
     "name": "stdout",
     "output_type": "stream",
     "text": [
      "          t1         t2         t3         t4         t5\n",
      "0  [1, 2, 3]  [2, 3, 4]  [3, 4, 5]  [4, 5, 6]  [5, 6, 7]\n",
      "1  [2, 1, 3]  [2, 1, 3]  [2, 1, 3]  [2, 1, 3]  [2, 1, 3]\n",
      "2  [1, 2, 3]  [1, 2, 3]  [1, 2, 3]  [1, 2, 3]  [1, 2, 3]\n"
     ]
    }
   ],
   "source": [
    "\n",
    "# Read the CSV file with a custom converter\n",
    "converters = {'t1': ast.literal_eval, 't2': ast.literal_eval, 't3': ast.literal_eval, 't4': ast.literal_eval, 't5': ast.literal_eval}\n",
    "old_data = pd.read_csv(\"hello.csv\", converters=converters)\n",
    "\n",
    "print(old_data)"
   ]
  },
  {
   "cell_type": "code",
   "execution_count": 136,
   "metadata": {},
   "outputs": [
    {
     "ename": "ValueError",
     "evalue": "malformed node or string: array([list([1, 2, 3]), list([2, 3, 4]), list([3, 4, 5]), list([4, 5, 6]),\n       list([5, 6, 7])], dtype=object)",
     "output_type": "error",
     "traceback": [
      "\u001b[1;31m---------------------------------------------------------------------------\u001b[0m",
      "\u001b[1;31mValueError\u001b[0m                                Traceback (most recent call last)",
      "\u001b[1;32m~\\AppData\\Local\\Temp\\ipykernel_21116\\2277958089.py\u001b[0m in \u001b[0;36m<module>\u001b[1;34m\u001b[0m\n\u001b[0;32m      1\u001b[0m \u001b[1;32mimport\u001b[0m \u001b[0mast\u001b[0m\u001b[1;33m\u001b[0m\u001b[1;33m\u001b[0m\u001b[0m\n\u001b[0;32m      2\u001b[0m \u001b[1;31m# Convert string representations of lists to actual lists\u001b[0m\u001b[1;33m\u001b[0m\u001b[1;33m\u001b[0m\u001b[1;33m\u001b[0m\u001b[0m\n\u001b[1;32m----> 3\u001b[1;33m \u001b[0mconverted_data\u001b[0m \u001b[1;33m=\u001b[0m \u001b[1;33m[\u001b[0m\u001b[0mast\u001b[0m\u001b[1;33m.\u001b[0m\u001b[0mliteral_eval\u001b[0m\u001b[1;33m(\u001b[0m\u001b[0mvalue\u001b[0m\u001b[1;33m)\u001b[0m \u001b[1;32mfor\u001b[0m \u001b[0mvalue\u001b[0m \u001b[1;32min\u001b[0m \u001b[0mold_data\u001b[0m\u001b[1;33m.\u001b[0m\u001b[0mvalues\u001b[0m\u001b[1;33m]\u001b[0m\u001b[1;33m\u001b[0m\u001b[1;33m\u001b[0m\u001b[0m\n\u001b[0m\u001b[0;32m      4\u001b[0m \u001b[1;33m\u001b[0m\u001b[0m\n\u001b[0;32m      5\u001b[0m \u001b[0mprint\u001b[0m\u001b[1;33m(\u001b[0m\u001b[0mconverted_data\u001b[0m\u001b[1;33m)\u001b[0m\u001b[1;33m\u001b[0m\u001b[1;33m\u001b[0m\u001b[0m\n",
      "\u001b[1;32m~\\AppData\\Local\\Temp\\ipykernel_21116\\2277958089.py\u001b[0m in \u001b[0;36m<listcomp>\u001b[1;34m(.0)\u001b[0m\n\u001b[0;32m      1\u001b[0m \u001b[1;32mimport\u001b[0m \u001b[0mast\u001b[0m\u001b[1;33m\u001b[0m\u001b[1;33m\u001b[0m\u001b[0m\n\u001b[0;32m      2\u001b[0m \u001b[1;31m# Convert string representations of lists to actual lists\u001b[0m\u001b[1;33m\u001b[0m\u001b[1;33m\u001b[0m\u001b[1;33m\u001b[0m\u001b[0m\n\u001b[1;32m----> 3\u001b[1;33m \u001b[0mconverted_data\u001b[0m \u001b[1;33m=\u001b[0m \u001b[1;33m[\u001b[0m\u001b[0mast\u001b[0m\u001b[1;33m.\u001b[0m\u001b[0mliteral_eval\u001b[0m\u001b[1;33m(\u001b[0m\u001b[0mvalue\u001b[0m\u001b[1;33m)\u001b[0m \u001b[1;32mfor\u001b[0m \u001b[0mvalue\u001b[0m \u001b[1;32min\u001b[0m \u001b[0mold_data\u001b[0m\u001b[1;33m.\u001b[0m\u001b[0mvalues\u001b[0m\u001b[1;33m]\u001b[0m\u001b[1;33m\u001b[0m\u001b[1;33m\u001b[0m\u001b[0m\n\u001b[0m\u001b[0;32m      4\u001b[0m \u001b[1;33m\u001b[0m\u001b[0m\n\u001b[0;32m      5\u001b[0m \u001b[0mprint\u001b[0m\u001b[1;33m(\u001b[0m\u001b[0mconverted_data\u001b[0m\u001b[1;33m)\u001b[0m\u001b[1;33m\u001b[0m\u001b[1;33m\u001b[0m\u001b[0m\n",
      "\u001b[1;32mc:\\users\\jonwa\\appdata\\local\\programs\\python\\python37\\lib\\ast.py\u001b[0m in \u001b[0;36mliteral_eval\u001b[1;34m(node_or_string)\u001b[0m\n\u001b[0;32m     89\u001b[0m                     \u001b[1;32mreturn\u001b[0m \u001b[0mleft\u001b[0m \u001b[1;33m-\u001b[0m \u001b[0mright\u001b[0m\u001b[1;33m\u001b[0m\u001b[1;33m\u001b[0m\u001b[0m\n\u001b[0;32m     90\u001b[0m         \u001b[1;32mreturn\u001b[0m \u001b[0m_convert_signed_num\u001b[0m\u001b[1;33m(\u001b[0m\u001b[0mnode\u001b[0m\u001b[1;33m)\u001b[0m\u001b[1;33m\u001b[0m\u001b[1;33m\u001b[0m\u001b[0m\n\u001b[1;32m---> 91\u001b[1;33m     \u001b[1;32mreturn\u001b[0m \u001b[0m_convert\u001b[0m\u001b[1;33m(\u001b[0m\u001b[0mnode_or_string\u001b[0m\u001b[1;33m)\u001b[0m\u001b[1;33m\u001b[0m\u001b[1;33m\u001b[0m\u001b[0m\n\u001b[0m\u001b[0;32m     92\u001b[0m \u001b[1;33m\u001b[0m\u001b[0m\n\u001b[0;32m     93\u001b[0m \u001b[1;33m\u001b[0m\u001b[0m\n",
      "\u001b[1;32mc:\\users\\jonwa\\appdata\\local\\programs\\python\\python37\\lib\\ast.py\u001b[0m in \u001b[0;36m_convert\u001b[1;34m(node)\u001b[0m\n\u001b[0;32m     88\u001b[0m                 \u001b[1;32melse\u001b[0m\u001b[1;33m:\u001b[0m\u001b[1;33m\u001b[0m\u001b[1;33m\u001b[0m\u001b[0m\n\u001b[0;32m     89\u001b[0m                     \u001b[1;32mreturn\u001b[0m \u001b[0mleft\u001b[0m \u001b[1;33m-\u001b[0m \u001b[0mright\u001b[0m\u001b[1;33m\u001b[0m\u001b[1;33m\u001b[0m\u001b[0m\n\u001b[1;32m---> 90\u001b[1;33m         \u001b[1;32mreturn\u001b[0m \u001b[0m_convert_signed_num\u001b[0m\u001b[1;33m(\u001b[0m\u001b[0mnode\u001b[0m\u001b[1;33m)\u001b[0m\u001b[1;33m\u001b[0m\u001b[1;33m\u001b[0m\u001b[0m\n\u001b[0m\u001b[0;32m     91\u001b[0m     \u001b[1;32mreturn\u001b[0m \u001b[0m_convert\u001b[0m\u001b[1;33m(\u001b[0m\u001b[0mnode_or_string\u001b[0m\u001b[1;33m)\u001b[0m\u001b[1;33m\u001b[0m\u001b[1;33m\u001b[0m\u001b[0m\n\u001b[0;32m     92\u001b[0m \u001b[1;33m\u001b[0m\u001b[0m\n",
      "\u001b[1;32mc:\\users\\jonwa\\appdata\\local\\programs\\python\\python37\\lib\\ast.py\u001b[0m in \u001b[0;36m_convert_signed_num\u001b[1;34m(node)\u001b[0m\n\u001b[0;32m     61\u001b[0m             \u001b[1;32melse\u001b[0m\u001b[1;33m:\u001b[0m\u001b[1;33m\u001b[0m\u001b[1;33m\u001b[0m\u001b[0m\n\u001b[0;32m     62\u001b[0m                 \u001b[1;32mreturn\u001b[0m \u001b[1;33m-\u001b[0m \u001b[0moperand\u001b[0m\u001b[1;33m\u001b[0m\u001b[1;33m\u001b[0m\u001b[0m\n\u001b[1;32m---> 63\u001b[1;33m         \u001b[1;32mreturn\u001b[0m \u001b[0m_convert_num\u001b[0m\u001b[1;33m(\u001b[0m\u001b[0mnode\u001b[0m\u001b[1;33m)\u001b[0m\u001b[1;33m\u001b[0m\u001b[1;33m\u001b[0m\u001b[0m\n\u001b[0m\u001b[0;32m     64\u001b[0m     \u001b[1;32mdef\u001b[0m \u001b[0m_convert\u001b[0m\u001b[1;33m(\u001b[0m\u001b[0mnode\u001b[0m\u001b[1;33m)\u001b[0m\u001b[1;33m:\u001b[0m\u001b[1;33m\u001b[0m\u001b[1;33m\u001b[0m\u001b[0m\n\u001b[0;32m     65\u001b[0m         \u001b[1;32mif\u001b[0m \u001b[0misinstance\u001b[0m\u001b[1;33m(\u001b[0m\u001b[0mnode\u001b[0m\u001b[1;33m,\u001b[0m \u001b[0mConstant\u001b[0m\u001b[1;33m)\u001b[0m\u001b[1;33m:\u001b[0m\u001b[1;33m\u001b[0m\u001b[1;33m\u001b[0m\u001b[0m\n",
      "\u001b[1;32mc:\\users\\jonwa\\appdata\\local\\programs\\python\\python37\\lib\\ast.py\u001b[0m in \u001b[0;36m_convert_num\u001b[1;34m(node)\u001b[0m\n\u001b[0;32m     53\u001b[0m         \u001b[1;32melif\u001b[0m \u001b[0misinstance\u001b[0m\u001b[1;33m(\u001b[0m\u001b[0mnode\u001b[0m\u001b[1;33m,\u001b[0m \u001b[0mNum\u001b[0m\u001b[1;33m)\u001b[0m\u001b[1;33m:\u001b[0m\u001b[1;33m\u001b[0m\u001b[1;33m\u001b[0m\u001b[0m\n\u001b[0;32m     54\u001b[0m             \u001b[1;32mreturn\u001b[0m \u001b[0mnode\u001b[0m\u001b[1;33m.\u001b[0m\u001b[0mn\u001b[0m\u001b[1;33m\u001b[0m\u001b[1;33m\u001b[0m\u001b[0m\n\u001b[1;32m---> 55\u001b[1;33m         \u001b[1;32mraise\u001b[0m \u001b[0mValueError\u001b[0m\u001b[1;33m(\u001b[0m\u001b[1;34m'malformed node or string: '\u001b[0m \u001b[1;33m+\u001b[0m \u001b[0mrepr\u001b[0m\u001b[1;33m(\u001b[0m\u001b[0mnode\u001b[0m\u001b[1;33m)\u001b[0m\u001b[1;33m)\u001b[0m\u001b[1;33m\u001b[0m\u001b[1;33m\u001b[0m\u001b[0m\n\u001b[0m\u001b[0;32m     56\u001b[0m     \u001b[1;32mdef\u001b[0m \u001b[0m_convert_signed_num\u001b[0m\u001b[1;33m(\u001b[0m\u001b[0mnode\u001b[0m\u001b[1;33m)\u001b[0m\u001b[1;33m:\u001b[0m\u001b[1;33m\u001b[0m\u001b[1;33m\u001b[0m\u001b[0m\n\u001b[0;32m     57\u001b[0m         \u001b[1;32mif\u001b[0m \u001b[0misinstance\u001b[0m\u001b[1;33m(\u001b[0m\u001b[0mnode\u001b[0m\u001b[1;33m,\u001b[0m \u001b[0mUnaryOp\u001b[0m\u001b[1;33m)\u001b[0m \u001b[1;32mand\u001b[0m \u001b[0misinstance\u001b[0m\u001b[1;33m(\u001b[0m\u001b[0mnode\u001b[0m\u001b[1;33m.\u001b[0m\u001b[0mop\u001b[0m\u001b[1;33m,\u001b[0m \u001b[1;33m(\u001b[0m\u001b[0mUAdd\u001b[0m\u001b[1;33m,\u001b[0m \u001b[0mUSub\u001b[0m\u001b[1;33m)\u001b[0m\u001b[1;33m)\u001b[0m\u001b[1;33m:\u001b[0m\u001b[1;33m\u001b[0m\u001b[1;33m\u001b[0m\u001b[0m\n",
      "\u001b[1;31mValueError\u001b[0m: malformed node or string: array([list([1, 2, 3]), list([2, 3, 4]), list([3, 4, 5]), list([4, 5, 6]),\n       list([5, 6, 7])], dtype=object)"
     ]
    }
   ],
   "source": [
    "import ast \n",
    "# Convert string representations of lists to actual lists\n",
    "converted_data = [ast.literal_eval(value) for value in old_data.values]\n",
    "\n",
    "print(converted_data)"
   ]
  },
  {
   "cell_type": "code",
   "execution_count": null,
   "metadata": {},
   "outputs": [
    {
     "ename": "TypeError",
     "evalue": "'method' object is not iterable",
     "output_type": "error",
     "traceback": [
      "\u001b[1;31m---------------------------------------------------------------------------\u001b[0m",
      "\u001b[1;31mTypeError\u001b[0m                                 Traceback (most recent call last)",
      "\u001b[1;32m~\\AppData\\Local\\Temp\\ipykernel_21116\\2684928444.py\u001b[0m in \u001b[0;36m<module>\u001b[1;34m\u001b[0m\n\u001b[1;32m----> 1\u001b[1;33m \u001b[1;32mfor\u001b[0m \u001b[0mcol\u001b[0m \u001b[1;32min\u001b[0m \u001b[0mold_data\u001b[0m\u001b[1;33m.\u001b[0m\u001b[0mto_records\u001b[0m\u001b[1;33m:\u001b[0m\u001b[1;33m\u001b[0m\u001b[1;33m\u001b[0m\u001b[0m\n\u001b[0m\u001b[0;32m      2\u001b[0m     \u001b[0mdf\u001b[0m\u001b[1;33m[\u001b[0m\u001b[0mcol\u001b[0m\u001b[1;33m]\u001b[0m \u001b[1;33m=\u001b[0m \u001b[0mdf\u001b[0m\u001b[1;33m[\u001b[0m\u001b[0mcol\u001b[0m\u001b[1;33m]\u001b[0m\u001b[1;33m.\u001b[0m\u001b[0mapply\u001b[0m\u001b[1;33m(\u001b[0m\u001b[0mast\u001b[0m\u001b[1;33m.\u001b[0m\u001b[0mliteral_eval\u001b[0m\u001b[1;33m)\u001b[0m\u001b[1;33m\u001b[0m\u001b[1;33m\u001b[0m\u001b[0m\n\u001b[0;32m      3\u001b[0m \u001b[1;33m\u001b[0m\u001b[0m\n\u001b[0;32m      4\u001b[0m \u001b[1;31m# Convert DataFrame to a list of lists\u001b[0m\u001b[1;33m\u001b[0m\u001b[1;33m\u001b[0m\u001b[1;33m\u001b[0m\u001b[0m\n\u001b[0;32m      5\u001b[0m \u001b[0mresult_list\u001b[0m \u001b[1;33m=\u001b[0m \u001b[0mdf\u001b[0m\u001b[1;33m.\u001b[0m\u001b[0mvalues\u001b[0m\u001b[1;33m.\u001b[0m\u001b[0mtolist\u001b[0m\u001b[1;33m(\u001b[0m\u001b[1;33m)\u001b[0m\u001b[1;33m\u001b[0m\u001b[1;33m\u001b[0m\u001b[0m\n",
      "\u001b[1;31mTypeError\u001b[0m: 'method' object is not iterable"
     ]
    }
   ],
   "source": [
    "for col in old_data.to_records:\n",
    "    df[col] = df[col].apply(ast.literal_eval)\n",
    "\n",
    "# Convert DataFrame to a list of lists\n",
    "result_list = df.values.tolist()\n",
    "\n",
    "print(result_list)"
   ]
  },
  {
   "cell_type": "code",
   "execution_count": null,
   "metadata": {},
   "outputs": [
    {
     "name": "stdout",
     "output_type": "stream",
     "text": [
      "          t1         t2         t3         t4         t5\n",
      "0  [1, 2, 3]  [2, 3, 4]  [3, 4, 5]  [4, 5, 6]  [5, 6, 7]\n",
      "1  [2, 1, 3]  [2, 1, 3]  [2, 1, 3]  [2, 1, 3]  [2, 1, 3]\n"
     ]
    },
    {
     "ename": "TypeError",
     "evalue": "'numpy.ndarray' object is not callable",
     "output_type": "error",
     "traceback": [
      "\u001b[1;31m---------------------------------------------------------------------------\u001b[0m",
      "\u001b[1;31mTypeError\u001b[0m                                 Traceback (most recent call last)",
      "\u001b[1;32m~\\AppData\\Local\\Temp\\ipykernel_21116\\703449212.py\u001b[0m in \u001b[0;36m<module>\u001b[1;34m\u001b[0m\n\u001b[0;32m      4\u001b[0m \u001b[1;33m\u001b[0m\u001b[0m\n\u001b[0;32m      5\u001b[0m \u001b[0mprint\u001b[0m\u001b[1;33m(\u001b[0m\u001b[0mold_data\u001b[0m\u001b[1;33m)\u001b[0m\u001b[1;33m\u001b[0m\u001b[1;33m\u001b[0m\u001b[0m\n\u001b[1;32m----> 6\u001b[1;33m \u001b[0mmax_length\u001b[0m \u001b[1;33m=\u001b[0m \u001b[0mmax\u001b[0m\u001b[1;33m(\u001b[0m\u001b[0mlen\u001b[0m\u001b[1;33m(\u001b[0m\u001b[0mlst\u001b[0m\u001b[1;33m)\u001b[0m \u001b[1;32mfor\u001b[0m \u001b[0mlst\u001b[0m \u001b[1;32min\u001b[0m \u001b[0mold_data\u001b[0m\u001b[1;33m.\u001b[0m\u001b[0mvalues\u001b[0m\u001b[1;33m(\u001b[0m\u001b[1;33m)\u001b[0m\u001b[1;33m)\u001b[0m\u001b[1;33m\u001b[0m\u001b[1;33m\u001b[0m\u001b[0m\n\u001b[0m\u001b[0;32m      7\u001b[0m \u001b[1;33m\u001b[0m\u001b[0m\n\u001b[0;32m      8\u001b[0m \u001b[1;31m# Create the desired format\u001b[0m\u001b[1;33m\u001b[0m\u001b[1;33m\u001b[0m\u001b[1;33m\u001b[0m\u001b[0m\n",
      "\u001b[1;31mTypeError\u001b[0m: 'numpy.ndarray' object is not callable"
     ]
    }
   ],
   "source": [
    "# Find the maximum length of lists across all 't' columns\n",
    "# converters = {'t1': ast.literal_eval, 't2': ast.literal_eval, 't3': ast.literal_eval, 't4': ast.literal_eval, 't5': ast.literal_eval}\n",
    "old_data = pd.read_csv(\"hello.csv\") #, converters=converters)\n",
    "\n",
    "print(old_data)\n",
    "max_length = max(len(lst) for lst in old_data.values())\n",
    "\n",
    "# Create the desired format\n",
    "result_list = [\n",
    "    [old_data[f't{i+1}'][j] if j < len(old_data[f't{i+1}']) else old_data[f't{i+1}'][-1] for j in range(max_length)]\n",
    "    for i in range(len(old_data))\n",
    "]\n",
    "\n",
    "print(result_list)"
   ]
  },
  {
   "cell_type": "code",
   "execution_count": 137,
   "metadata": {},
   "outputs": [
    {
     "name": "stdout",
     "output_type": "stream",
     "text": [
      "Original DataFrame:\n",
      "          t1         t2         t3         t4         t5\n",
      "0  [1, 2, 3]  [2, 3, 4]  [3, 4, 5]  [4, 5, 6]  [5, 6, 7]\n",
      "1  [2, 1, 3]  [2, 1, 3]  [2, 1, 3]  [2, 1, 3]  [2, 1, 3]\n",
      "2  [1, 2, 3]  [1, 2, 3]  [1, 2, 3]  [1, 2, 3]  [1, 2, 3]\n",
      "\n",
      "Desired Format:\n",
      "[[1, 2, 3], [2, 3, 4], [3, 4, 5], [4, 5, 6], [5, 6, 7], [2, 1, 3], [2, 1, 3], [2, 1, 3], [2, 1, 3], [2, 1, 3], [1, 2, 3], [1, 2, 3], [1, 2, 3], [1, 2, 3], [1, 2, 3], None, None, None, None, None, None, None, None, None, None]\n"
     ]
    }
   ],
   "source": [
    "import pandas as pd\n",
    "import ast\n",
    "\n",
    "# Fetch data from CSV and create a DataFrame\n",
    "csv_file_path = \"hello.csv\"\n",
    "df = pd.read_csv(csv_file_path)\n",
    "\n",
    "# Apply ast.literal_eval to each column with error handling\n",
    "for col in df.columns:\n",
    "    df[col] = df[col].apply(lambda x: ast.literal_eval(x) if pd.notna(x) and x.strip().startswith('[') else x)\n",
    "\n",
    "print(\"Original DataFrame:\")\n",
    "print(df)\n",
    "\n",
    "# Find the maximum length of lists across all columns\n",
    "max_length = max(len(lst) for lst in df.dropna().values)\n",
    "\n",
    "# Create the desired format\n",
    "result_list = [\n",
    "    [df[col].iloc[j] if j < len(df[col].dropna()) else None for col in df.columns]\n",
    "    for j in range(max_length)\n",
    "]\n",
    "\n",
    "# Flatten the result list\n",
    "result_list = [item for sublist in result_list for item in sublist]\n",
    "\n",
    "print(\"\\nDesired Format:\")\n",
    "print(result_list)\n"
   ]
  },
  {
   "cell_type": "code",
   "execution_count": 138,
   "metadata": {},
   "outputs": [],
   "source": [
    "import numpy as np\n",
    "\n",
    "features = [\n",
    "    [\n",
    "        [1, 2, 3],\n",
    "        [2, 3, 4],\n",
    "        [3, 4, 5],\n",
    "        [4, 5, 6],\n",
    "        [5, 6, 7]\n",
    "    ],\n",
    "    [\n",
    "        [2, 3, 4],\n",
    "        [3, 4, 5],\n",
    "        [4, 5, 6],\n",
    "        [5, 6, 7],\n",
    "        [6, 7, 8]\n",
    "    ],\n",
    "    [\n",
    "        [3, 4, 5],\n",
    "        [4, 5, 6],\n",
    "        [5, 6, 7],\n",
    "        [6, 7, 8],\n",
    "        [7, 8, 9]\n",
    "    ],\n",
    "    [\n",
    "        [4, 5, 6],\n",
    "        [5, 6, 7],\n",
    "        [6, 7, 8],\n",
    "        [7, 8, 9],\n",
    "        [8, 9, 10]\n",
    "    ],\n",
    "    [\n",
    "        [5, 6, 7],\n",
    "        [6, 7, 8],\n",
    "        [7, 8, 9],\n",
    "        [8, 9, 10],\n",
    "        [9, 10, 11]\n",
    "    ],\n",
    "    [\n",
    "        [6, 7, 8],\n",
    "        [7, 8, 9],\n",
    "        [8, 9, 10],\n",
    "        [9, 10, 11],\n",
    "        [10, 11, 12]\n",
    "    ],\n",
    "    [\n",
    "        [7, 8, 9],\n",
    "        [8, 9, 10],\n",
    "        [9, 10, 11],\n",
    "        [10, 11, 12],\n",
    "        [11, 12, 13]\n",
    "    ]\n",
    "]\n",
    "\n",
    "# Convert the list of lists to a NumPy array\n",
    "features_array = np.array(features)\n",
    "\n",
    "# Save the array to a .npy file\n",
    "np.save('features.npy', features_array)\n"
   ]
  },
  {
   "cell_type": "code",
   "execution_count": 141,
   "metadata": {},
   "outputs": [
    {
     "name": "stdout",
     "output_type": "stream",
     "text": [
      "[[[ 1  2  3]\n",
      "  [ 2  3  4]\n",
      "  [ 3  4  5]\n",
      "  [ 4  5  6]\n",
      "  [ 5  6  7]]\n",
      "\n",
      " [[ 2  3  4]\n",
      "  [ 3  4  5]\n",
      "  [ 4  5  6]\n",
      "  [ 5  6  7]\n",
      "  [ 6  7  8]]\n",
      "\n",
      " [[ 3  4  5]\n",
      "  [ 4  5  6]\n",
      "  [ 5  6  7]\n",
      "  [ 6  7  8]\n",
      "  [ 7  8  9]]\n",
      "\n",
      " [[ 4  5  6]\n",
      "  [ 5  6  7]\n",
      "  [ 6  7  8]\n",
      "  [ 7  8  9]\n",
      "  [ 8  9 10]]\n",
      "\n",
      " [[ 5  6  7]\n",
      "  [ 6  7  8]\n",
      "  [ 7  8  9]\n",
      "  [ 8  9 10]\n",
      "  [ 9 10 11]]\n",
      "\n",
      " [[ 6  7  8]\n",
      "  [ 7  8  9]\n",
      "  [ 8  9 10]\n",
      "  [ 9 10 11]\n",
      "  [10 11 12]]\n",
      "\n",
      " [[ 7  8  9]\n",
      "  [ 8  9 10]\n",
      "  [ 9 10 11]\n",
      "  [10 11 12]\n",
      "  [11 12 13]]]\n"
     ]
    }
   ],
   "source": [
    "loaded_features = np.load('features.npy')\n",
    "print(loaded_features)\n"
   ]
  },
  {
   "cell_type": "code",
   "execution_count": 142,
   "metadata": {},
   "outputs": [],
   "source": [
    "import numpy as np\n",
    "\n",
    "features = [\n",
    "    1,2,3\n",
    "]\n",
    "\n",
    "# Convert the list of lists to a NumPy array\n",
    "features_array = np.array(features)\n",
    "\n",
    "# Save the array to a .npy file\n",
    "np.save('features1.npy', features_array)\n"
   ]
  },
  {
   "cell_type": "code",
   "execution_count": 157,
   "metadata": {},
   "outputs": [
    {
     "name": "stdout",
     "output_type": "stream",
     "text": [
      "<class 'numpy.ndarray'>\n"
     ]
    }
   ],
   "source": [
    "loaded_features = np.load('features1.npy', allow_pickle=True)\n",
    "print(type(loaded_features))\n"
   ]
  },
  {
   "cell_type": "code",
   "execution_count": 158,
   "metadata": {},
   "outputs": [
    {
     "name": "stdout",
     "output_type": "stream",
     "text": [
      "<class 'numpy.ndarray'>\n"
     ]
    }
   ],
   "source": [
    "data = np.concatenate([loaded_features , [4,5,6]])\n",
    "print(type(data))\n",
    "np.save('features1.npy', data)"
   ]
  },
  {
   "cell_type": "code",
   "execution_count": 4,
   "metadata": {},
   "outputs": [
    {
     "name": "stdout",
     "output_type": "stream",
     "text": [
      "624\n",
      "[1 1 1 1 1 1 1 1 1 1 1 1 1 1 1 1 1 1 1 1 1 1 1 1 1 1 1 1 1 1 1 1 1 1 1 1 1\n",
      " 1 1 1 1 1 1 1 1 1 1 1 1 1 1 1 1 1 1 1 1 1 1 1 1 1 1 1 1 1 1 1 1 1 2 2 2 2\n",
      " 2 2 2 2 2 2 2 2 2 2 2 2 2 2 2 2 2 2 2 2 2 2 2 2 2 2 2 2 2 2 2 2 2 2 2 2 2\n",
      " 2 2 2 2 2 2 2 2 2 2 2 2 2 2 2 2 2 2 2 0 0 0 0 0 0 0 0 0 0 0 0 0 0 0 0 0 0\n",
      " 0 0 0 0 0 0 0 0 0 0 0 0 0 0 0 0 0 0 0 0 0 0 0 0 0 0 0 0 0 0 0 0 0 0 0 0 0\n",
      " 0 0 0 0 0 0 0 0 0 0 0 0 0 0 0 0 0 0 0 0 0 0 0 0 0 0 0 0 0 0 0 0 0 0 0 0 0\n",
      " 0 0 0 0 0 0 0 0 0 3 3 3 3 3 3 3 3 3 3 3 3 3 3 3 3 3 3 3 3 3 3 3 3 3 3 3 3\n",
      " 3 3 3 3 3 3 3 3 3 3 3 3 3 3 3 3 3 3 3 3 3 3 3 3 3 3 3 3 3 3 3 3 3 3 4 4 4\n",
      " 4 4 4 4 4 4 4 4 4 4 4 4 4 4 4 4 4 4 4 4 4 4 4 4 4 4 4 4 4 4 4 4 4 4 4 4 4\n",
      " 4 4 4 4 4 4 4 4 4 4 4 4 4 4 5 5 5 5 5 5 5 5 5 5 5 5 5 5 5 5 5 5 5 5 5 5 5\n",
      " 5 5 5 5 5 5 5 5 5 5 5 5 5 5 5 5 5 5 5 5 5 5 5 5 5 5 5 5 5 5 5 5 5 5 5 5 5\n",
      " 5 5 5 5 5 5 5 5 5 5 5 5 5 5 5 5 5 5 5 5 5 5 5 5 5 6 6 6 6 6 6 6 6 6 6 6 6\n",
      " 6 6 6 6 6 6 6 6 6 6 6 6 6 6 6 6 6 6 6 6 6 6 6 6 6 6 6 6 6 6 6 6 6 6 6 6 6\n",
      " 6 6 6 6 6 6 6 6 6 6 6 6 6 6 6 6 6 6 6 6 6 6 6 6 6 6 6 6 6 6 6 6 6 6 6 6 6\n",
      " 6 6 6 6 6 6 6 6 6 6 6 6 6 6 6 6 6 7 7 7 7 7 7 7 7 7 7 7 7 7 7 7 7 7 7 7 7\n",
      " 7 7 7 7 7 7 7 7 7 7 7 7 7 7 7 7 7 7 7 7 7 7 7 7 7 7 7 7 7 7 7 7 7 7 7 7 7\n",
      " 7 7 7 7 7 7 7 7 7 7 7 7 7 7 7 7 7 7 7 7 7 7 7 7 7 7 7 7 7 7 7 7]\n"
     ]
    }
   ],
   "source": [
    "import numpy as np\n",
    "loaded_features = np.load('pose_labels.npy', allow_pickle=True)\n",
    "print(len(loaded_features))\n",
    "print(loaded_features)\n"
   ]
  },
  {
   "cell_type": "code",
   "execution_count": 171,
   "metadata": {},
   "outputs": [
    {
     "name": "stdout",
     "output_type": "stream",
     "text": [
      "231\n",
      "[[[0.91689324 0.88787377 0.86680961 ... 0.60480976 1.01863015 0.57546812]\n",
      "  [0.90945721 0.89461374 0.86353743 ... 0.61108655 1.01030397 0.58668685]\n",
      "  [0.88326567 0.83464479 0.83037531 ... 0.54908478 0.99916035 0.51383942]\n",
      "  ...\n",
      "  [0.75484669 0.71731478 0.69350672 ... 0.41872653 0.80342561 0.38075188]\n",
      "  [0.756607   0.71772152 0.69441348 ... 0.42092243 0.80210215 0.3863917 ]\n",
      "  [0.73465675 0.73654169 0.66891629 ... 0.43275833 0.76846826 0.39500064]]\n",
      "\n",
      " [[0.73186767 0.73652393 0.66831857 ... 0.43150565 0.76934302 0.3925156 ]\n",
      "  [0.71503079 0.74929613 0.650491   ... 0.44451922 0.74058765 0.40505832]\n",
      "  [0.71579719 0.74992037 0.6507327  ... 0.44321224 0.74237609 0.40472537]\n",
      "  ...\n",
      "  [0.7635088  0.73931974 0.70394099 ... 0.44943175 0.83472484 0.41241699]\n",
      "  [0.78153324 0.74004954 0.72358429 ... 0.45860407 0.86058623 0.41949815]\n",
      "  [0.79497969 0.74803197 0.73832268 ... 0.46918955 0.88456273 0.43049663]]\n",
      "\n",
      " [[0.79141116 0.748366   0.73724729 ... 0.47296962 0.88885987 0.43561074]\n",
      "  [0.8068772  0.75663036 0.75123233 ... 0.48328346 0.90416408 0.4452281 ]\n",
      "  [0.81672925 0.76727289 0.7626965  ... 0.49821833 0.91948777 0.46119666]\n",
      "  ...\n",
      "  [0.76960629 0.77322805 0.71375662 ... 0.50438297 0.87307417 0.46959955]\n",
      "  [0.75454891 0.77634937 0.6986087  ... 0.50304997 0.85424149 0.46671012]\n",
      "  [0.74060577 0.78198797 0.68380845 ... 0.50837517 0.83799917 0.47310841]]\n",
      "\n",
      " ...\n",
      "\n",
      " [[0.1407374  0.82303476 0.19983147 ... 0.70297635 0.13628468 0.72432715]\n",
      "  [0.13988878 0.82266366 0.19899237 ... 0.70476353 0.13565378 0.72295749]\n",
      "  [0.14068273 0.81812072 0.20006929 ... 0.69960195 0.13611281 0.72098529]\n",
      "  ...\n",
      "  [0.1800147  0.72037196 0.23031963 ... 0.61722755 0.17814812 0.63036287]\n",
      "  [0.18171473 0.72939491 0.23298039 ... 0.61940539 0.18859574 0.6359477 ]\n",
      "  [0.17852089 0.74710733 0.23620979 ... 0.63427699 0.19383326 0.65303349]]\n",
      "\n",
      " [[0.18967091 0.78201097 0.24288554 ... 0.67619979 0.20351225 0.69302624]\n",
      "  [0.20384797 0.84734452 0.25353658 ... 0.76206964 0.22383274 0.77883738]\n",
      "  [0.58211398 0.90783799 0.56930995 ... 0.97352666 0.47016039 0.98726588]\n",
      "  ...\n",
      "  [0.69691497 0.65896475 0.64598614 ... 0.51521242 0.71508211 0.5426352 ]\n",
      "  [0.7035982  0.68269277 0.64947748 ... 0.55457926 0.71969807 0.57923216]\n",
      "  [0.70887494 0.71028101 0.65458578 ... 0.59223026 0.72096425 0.61998034]]\n",
      "\n",
      " [[0.70559043 0.73247015 0.65084791 ... 0.6494984  0.70673937 0.67472124]\n",
      "  [0.70006704 0.7485432  0.64350897 ... 0.66906595 0.69350743 0.69812882]\n",
      "  [0.69138426 0.7560488  0.63429576 ... 0.66873008 0.68788469 0.69602507]\n",
      "  ...\n",
      "  [0.65483028 0.74773729 0.60080844 ... 0.64582777 0.65689772 0.67211401]\n",
      "  [0.64924675 0.73733538 0.59407103 ... 0.62125313 0.65453529 0.64710569]\n",
      "  [0.64278221 0.72477591 0.58878869 ... 0.62007701 0.64184171 0.64747071]]]\n"
     ]
    },
    {
     "data": {
      "text/plain": [
       "(231, 15, 42)"
      ]
     },
     "execution_count": 171,
     "metadata": {},
     "output_type": "execute_result"
    }
   ],
   "source": [
    "loaded_features = np.load('pose_features.npy', allow_pickle=True)\n",
    "print(len(loaded_features))\n",
    "print(loaded_features)\n",
    "loaded_features.shape"
   ]
  },
  {
   "cell_type": "code",
   "execution_count": null,
   "metadata": {},
   "outputs": [],
   "source": []
  },
  {
   "cell_type": "code",
   "execution_count": null,
   "metadata": {},
   "outputs": [],
   "source": []
  }
 ],
 "metadata": {
  "kernelspec": {
   "display_name": "myenv",
   "language": "python",
   "name": "python3"
  },
  "language_info": {
   "codemirror_mode": {
    "name": "ipython",
    "version": 3
   },
   "file_extension": ".py",
   "mimetype": "text/x-python",
   "name": "python",
   "nbconvert_exporter": "python",
   "pygments_lexer": "ipython3",
   "version": "3.7.9"
  }
 },
 "nbformat": 4,
 "nbformat_minor": 2
}
