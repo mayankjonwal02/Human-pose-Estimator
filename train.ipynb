{
 "cells": [
  {
   "cell_type": "code",
   "execution_count": 114,
   "metadata": {},
   "outputs": [],
   "source": [
    "import tensorflow as tf \n",
    "import numpy as np\n",
    "from tensorflow.keras.models import Sequential\n",
    "from tensorflow.keras.layers import LSTM, Dense\n",
    "from tensorflow.keras.utils import to_categorical"
   ]
  },
  {
   "cell_type": "code",
   "execution_count": 115,
   "metadata": {},
   "outputs": [],
   "source": [
    "features = np.load(\"pose_features.npy\",allow_pickle=True)\n",
    "labels = np.load(\"pose_labels.npy\",allow_pickle=True)\n"
   ]
  },
  {
   "cell_type": "code",
   "execution_count": 116,
   "metadata": {},
   "outputs": [
    {
     "data": {
      "text/plain": [
       "(624, 15, 42)"
      ]
     },
     "execution_count": 116,
     "metadata": {},
     "output_type": "execute_result"
    }
   ],
   "source": [
    "labels = np.array(labels)\n",
    "features = np.array(features)\n",
    "features.shape"
   ]
  },
  {
   "cell_type": "code",
   "execution_count": 117,
   "metadata": {},
   "outputs": [],
   "source": [
    "model = Sequential()\n",
    "model.add(LSTM(64 , input_shape = (features.shape[1],features.shape[2]), return_sequences = True))\n",
    "model.add(LSTM(32 , return_sequences = False))\n",
    "model.add(Dense(len(np.unique(labels)) , activation = 'softmax'))\n",
    "model.compile(optimizer = 'adam' , loss = 'sparse_categorical_crossentropy', metrics = ['accuracy'])\n"
   ]
  },
  {
   "cell_type": "code",
   "execution_count": 118,
   "metadata": {},
   "outputs": [
    {
     "data": {
      "text/plain": [
       "array([1, 1, 1, 1, 1, 1, 1, 1, 1, 1, 1, 1, 1, 1, 1, 1, 1, 1, 1, 1, 1, 1,\n",
       "       1, 1, 1, 1, 1, 1, 1, 1, 1, 1, 1, 1, 1, 1, 1, 1, 1, 1, 1, 1, 1, 1,\n",
       "       1, 1, 1, 1, 1, 1, 1, 1, 1, 1, 1, 1, 1, 1, 1, 1, 1, 1, 1, 1, 1, 1,\n",
       "       1, 1, 1, 1, 2, 2, 2, 2, 2, 2, 2, 2, 2, 2, 2, 2, 2, 2, 2, 2, 2, 2,\n",
       "       2, 2, 2, 2, 2, 2, 2, 2, 2, 2, 2, 2, 2, 2, 2, 2, 2, 2, 2, 2, 2, 2,\n",
       "       2, 2, 2, 2, 2, 2, 2, 2, 2, 2, 2, 2, 2, 2, 2, 2, 2, 2, 2, 2, 0, 0,\n",
       "       0, 0, 0, 0, 0, 0, 0, 0, 0, 0, 0, 0, 0, 0, 0, 0, 0, 0, 0, 0, 0, 0,\n",
       "       0, 0, 0, 0, 0, 0, 0, 0, 0, 0, 0, 0, 0, 0, 0, 0, 0, 0, 0, 0, 0, 0,\n",
       "       0, 0, 0, 0, 0, 0, 0, 0, 0, 0, 0, 0, 0, 0, 0, 0, 0, 0, 0, 0, 0, 0,\n",
       "       0, 0, 0, 0, 0, 0, 0, 0, 0, 0, 0, 0, 0, 0, 0, 0, 0, 0, 0, 0, 0, 0,\n",
       "       0, 0, 0, 0, 0, 0, 0, 0, 0, 0, 0, 3, 3, 3, 3, 3, 3, 3, 3, 3, 3, 3,\n",
       "       3, 3, 3, 3, 3, 3, 3, 3, 3, 3, 3, 3, 3, 3, 3, 3, 3, 3, 3, 3, 3, 3,\n",
       "       3, 3, 3, 3, 3, 3, 3, 3, 3, 3, 3, 3, 3, 3, 3, 3, 3, 3, 3, 3, 3, 3,\n",
       "       3, 3, 3, 3, 3, 3, 3, 4, 4, 4, 4, 4, 4, 4, 4, 4, 4, 4, 4, 4, 4, 4,\n",
       "       4, 4, 4, 4, 4, 4, 4, 4, 4, 4, 4, 4, 4, 4, 4, 4, 4, 4, 4, 4, 4, 4,\n",
       "       4, 4, 4, 4, 4, 4, 4, 4, 4, 4, 4, 4, 4, 4, 4, 4, 4, 5, 5, 5, 5, 5,\n",
       "       5, 5, 5, 5, 5, 5, 5, 5, 5, 5, 5, 5, 5, 5, 5, 5, 5, 5, 5, 5, 5, 5,\n",
       "       5, 5, 5, 5, 5, 5, 5, 5, 5, 5, 5, 5, 5, 5, 5, 5, 5, 5, 5, 5, 5, 5,\n",
       "       5, 5, 5, 5, 5, 5, 5, 5, 5, 5, 5, 5, 5, 5, 5, 5, 5, 5, 5, 5, 5, 5,\n",
       "       5, 5, 5, 5, 5, 5, 5, 5, 5, 5, 5, 5, 5, 5, 6, 6, 6, 6, 6, 6, 6, 6,\n",
       "       6, 6, 6, 6, 6, 6, 6, 6, 6, 6, 6, 6, 6, 6, 6, 6, 6, 6, 6, 6, 6, 6,\n",
       "       6, 6, 6, 6, 6, 6, 6, 6, 6, 6, 6, 6, 6, 6, 6, 6, 6, 6, 6, 6, 6, 6,\n",
       "       6, 6, 6, 6, 6, 6, 6, 6, 6, 6, 6, 6, 6, 6, 6, 6, 6, 6, 6, 6, 6, 6,\n",
       "       6, 6, 6, 6, 6, 6, 6, 6, 6, 6, 6, 6, 6, 6, 6, 6, 6, 6, 6, 6, 6, 6,\n",
       "       6, 6, 6, 6, 6, 6, 6, 7, 7, 7, 7, 7, 7, 7, 7, 7, 7, 7, 7, 7, 7, 7,\n",
       "       7, 7, 7, 7, 7, 7, 7, 7, 7, 7, 7, 7, 7, 7, 7, 7, 7, 7, 7, 7, 7, 7,\n",
       "       7, 7, 7, 7, 7, 7, 7, 7, 7, 7, 7, 7, 7, 7, 7, 7, 7, 7, 7, 7, 7, 7,\n",
       "       7, 7, 7, 7, 7, 7, 7, 7, 7, 7, 7, 7, 7, 7, 7, 7, 7, 7, 7, 7, 7, 7,\n",
       "       7, 7, 7, 7, 7, 7, 7, 7])"
      ]
     },
     "execution_count": 118,
     "metadata": {},
     "output_type": "execute_result"
    }
   ],
   "source": [
    "labels"
   ]
  },
  {
   "cell_type": "code",
   "execution_count": 119,
   "metadata": {},
   "outputs": [
    {
     "name": "stdout",
     "output_type": "stream",
     "text": [
      "Epoch 1/50\n"
     ]
    },
    {
     "name": "stdout",
     "output_type": "stream",
     "text": [
      "499/499 [==============================] - 5s 6ms/step - loss: 1.7941 - accuracy: 0.2886 - val_loss: 4.1965 - val_accuracy: 0.0560\n",
      "Epoch 2/50\n",
      "499/499 [==============================] - 3s 5ms/step - loss: 1.4180 - accuracy: 0.4449 - val_loss: 4.6335 - val_accuracy: 0.1600\n",
      "Epoch 3/50\n",
      "499/499 [==============================] - 2s 5ms/step - loss: 1.0898 - accuracy: 0.6032 - val_loss: 5.3831 - val_accuracy: 0.1760\n",
      "Epoch 4/50\n",
      "499/499 [==============================] - 2s 5ms/step - loss: 0.9195 - accuracy: 0.6914 - val_loss: 6.0395 - val_accuracy: 0.0480\n",
      "Epoch 5/50\n",
      "499/499 [==============================] - 2s 5ms/step - loss: 0.7330 - accuracy: 0.7435 - val_loss: 7.9070 - val_accuracy: 0.1200\n",
      "Epoch 6/50\n",
      "499/499 [==============================] - 2s 5ms/step - loss: 0.7204 - accuracy: 0.7375 - val_loss: 4.6992 - val_accuracy: 0.0960\n",
      "Epoch 7/50\n",
      "499/499 [==============================] - 2s 5ms/step - loss: 0.6042 - accuracy: 0.8036 - val_loss: 6.4538 - val_accuracy: 0.2160\n",
      "Epoch 8/50\n",
      "499/499 [==============================] - 2s 5ms/step - loss: 0.5859 - accuracy: 0.8076 - val_loss: 6.4396 - val_accuracy: 0.0720\n",
      "Epoch 9/50\n",
      "499/499 [==============================] - 2s 5ms/step - loss: 0.5052 - accuracy: 0.8236 - val_loss: 7.0954 - val_accuracy: 0.2160\n",
      "Epoch 10/50\n",
      "499/499 [==============================] - 2s 5ms/step - loss: 0.4141 - accuracy: 0.8537 - val_loss: 7.1948 - val_accuracy: 0.1120\n",
      "Epoch 11/50\n",
      "499/499 [==============================] - 3s 5ms/step - loss: 0.3429 - accuracy: 0.9058 - val_loss: 6.4822 - val_accuracy: 0.2160\n",
      "Epoch 12/50\n",
      "499/499 [==============================] - 3s 5ms/step - loss: 0.3676 - accuracy: 0.8838 - val_loss: 3.5678 - val_accuracy: 0.2560\n",
      "Epoch 13/50\n",
      "499/499 [==============================] - 2s 5ms/step - loss: 0.3139 - accuracy: 0.8998 - val_loss: 6.1357 - val_accuracy: 0.2160\n",
      "Epoch 14/50\n",
      "499/499 [==============================] - 2s 5ms/step - loss: 0.3063 - accuracy: 0.9118 - val_loss: 7.7362 - val_accuracy: 0.1120\n",
      "Epoch 15/50\n",
      "499/499 [==============================] - 3s 5ms/step - loss: 0.3043 - accuracy: 0.9098 - val_loss: 5.0201 - val_accuracy: 0.1920\n",
      "Epoch 16/50\n",
      "499/499 [==============================] - 2s 5ms/step - loss: 0.2762 - accuracy: 0.9118 - val_loss: 6.3439 - val_accuracy: 0.2000\n",
      "Epoch 17/50\n",
      "499/499 [==============================] - 2s 5ms/step - loss: 0.2707 - accuracy: 0.9259 - val_loss: 6.4833 - val_accuracy: 0.1520\n",
      "Epoch 18/50\n",
      "499/499 [==============================] - 2s 5ms/step - loss: 0.2590 - accuracy: 0.9098 - val_loss: 7.4571 - val_accuracy: 0.2080\n",
      "Epoch 19/50\n",
      "499/499 [==============================] - 3s 5ms/step - loss: 0.2142 - accuracy: 0.9299 - val_loss: 7.8437 - val_accuracy: 0.2160\n",
      "Epoch 20/50\n",
      "499/499 [==============================] - 2s 5ms/step - loss: 0.2859 - accuracy: 0.9098 - val_loss: 7.5361 - val_accuracy: 0.1840\n",
      "Epoch 21/50\n",
      "499/499 [==============================] - 2s 5ms/step - loss: 0.1869 - accuracy: 0.9479 - val_loss: 8.3097 - val_accuracy: 0.1920\n",
      "Epoch 22/50\n",
      "499/499 [==============================] - 2s 5ms/step - loss: 0.3053 - accuracy: 0.9058 - val_loss: 7.2283 - val_accuracy: 0.1680\n",
      "Epoch 23/50\n",
      "499/499 [==============================] - 2s 5ms/step - loss: 0.2273 - accuracy: 0.9238 - val_loss: 7.4208 - val_accuracy: 0.2320\n",
      "Epoch 24/50\n",
      "499/499 [==============================] - 2s 5ms/step - loss: 0.2097 - accuracy: 0.9379 - val_loss: 6.5045 - val_accuracy: 0.2160\n",
      "Epoch 25/50\n",
      "499/499 [==============================] - 2s 5ms/step - loss: 0.1469 - accuracy: 0.9559 - val_loss: 7.0812 - val_accuracy: 0.2160\n",
      "Epoch 26/50\n",
      "499/499 [==============================] - 2s 5ms/step - loss: 0.2710 - accuracy: 0.9158 - val_loss: 5.9637 - val_accuracy: 0.2080\n",
      "Epoch 27/50\n",
      "499/499 [==============================] - 2s 5ms/step - loss: 0.1049 - accuracy: 0.9719 - val_loss: 7.6349 - val_accuracy: 0.2240\n",
      "Epoch 28/50\n",
      "499/499 [==============================] - 2s 5ms/step - loss: 0.1944 - accuracy: 0.9359 - val_loss: 8.2544 - val_accuracy: 0.1760\n",
      "Epoch 29/50\n",
      "499/499 [==============================] - 2s 5ms/step - loss: 0.1791 - accuracy: 0.9399 - val_loss: 6.6445 - val_accuracy: 0.2320\n",
      "Epoch 30/50\n",
      "499/499 [==============================] - 2s 5ms/step - loss: 0.2070 - accuracy: 0.9399 - val_loss: 6.4776 - val_accuracy: 0.2320\n",
      "Epoch 31/50\n",
      "499/499 [==============================] - 2s 5ms/step - loss: 0.1786 - accuracy: 0.9459 - val_loss: 7.1870 - val_accuracy: 0.2160\n",
      "Epoch 32/50\n",
      "499/499 [==============================] - 2s 5ms/step - loss: 0.1424 - accuracy: 0.9579 - val_loss: 7.2990 - val_accuracy: 0.2640\n",
      "Epoch 33/50\n",
      "499/499 [==============================] - 2s 5ms/step - loss: 0.0778 - accuracy: 0.9800 - val_loss: 7.5615 - val_accuracy: 0.2240\n",
      "Epoch 34/50\n",
      "499/499 [==============================] - 2s 5ms/step - loss: 0.2136 - accuracy: 0.9379 - val_loss: 6.4421 - val_accuracy: 0.2320\n",
      "Epoch 35/50\n",
      "499/499 [==============================] - 2s 5ms/step - loss: 0.1066 - accuracy: 0.9679 - val_loss: 7.3034 - val_accuracy: 0.2320\n",
      "Epoch 36/50\n",
      "499/499 [==============================] - 2s 5ms/step - loss: 0.2592 - accuracy: 0.9198 - val_loss: 7.0003 - val_accuracy: 0.2240\n",
      "Epoch 37/50\n",
      "499/499 [==============================] - 2s 5ms/step - loss: 0.1612 - accuracy: 0.9499 - val_loss: 8.1852 - val_accuracy: 0.2160\n",
      "Epoch 38/50\n",
      "499/499 [==============================] - 2s 5ms/step - loss: 0.1254 - accuracy: 0.9599 - val_loss: 7.1038 - val_accuracy: 0.0880\n",
      "Epoch 39/50\n",
      "499/499 [==============================] - 2s 5ms/step - loss: 0.1885 - accuracy: 0.9439 - val_loss: 7.2005 - val_accuracy: 0.2400\n",
      "Epoch 40/50\n",
      "499/499 [==============================] - 2s 5ms/step - loss: 0.0675 - accuracy: 0.9840 - val_loss: 7.6808 - val_accuracy: 0.2000\n",
      "Epoch 41/50\n",
      "499/499 [==============================] - 2s 5ms/step - loss: 0.1342 - accuracy: 0.9639 - val_loss: 6.8028 - val_accuracy: 0.2320\n",
      "Epoch 42/50\n",
      "499/499 [==============================] - 2s 5ms/step - loss: 0.0379 - accuracy: 0.9880 - val_loss: 9.0541 - val_accuracy: 0.2720\n",
      "Epoch 43/50\n",
      "499/499 [==============================] - 2s 5ms/step - loss: 0.3131 - accuracy: 0.9098 - val_loss: 6.8720 - val_accuracy: 0.2080\n",
      "Epoch 44/50\n",
      "499/499 [==============================] - 2s 5ms/step - loss: 0.0992 - accuracy: 0.9579 - val_loss: 7.2153 - val_accuracy: 0.2320\n",
      "Epoch 45/50\n",
      "499/499 [==============================] - 2s 5ms/step - loss: 0.0277 - accuracy: 0.9940 - val_loss: 8.3520 - val_accuracy: 0.2720\n",
      "Epoch 46/50\n",
      "499/499 [==============================] - 2s 5ms/step - loss: 0.1695 - accuracy: 0.9499 - val_loss: 7.7727 - val_accuracy: 0.2080\n",
      "Epoch 47/50\n",
      "499/499 [==============================] - 2s 5ms/step - loss: 0.1786 - accuracy: 0.9459 - val_loss: 8.0229 - val_accuracy: 0.2480\n",
      "Epoch 48/50\n",
      "499/499 [==============================] - 2s 5ms/step - loss: 0.0409 - accuracy: 0.9900 - val_loss: 9.2884 - val_accuracy: 0.2320\n",
      "Epoch 49/50\n",
      "499/499 [==============================] - 2s 5ms/step - loss: 0.1552 - accuracy: 0.9519 - val_loss: 9.3944 - val_accuracy: 0.2160\n",
      "Epoch 50/50\n",
      "499/499 [==============================] - 2s 5ms/step - loss: 0.1085 - accuracy: 0.9619 - val_loss: 8.6740 - val_accuracy: 0.2080\n"
     ]
    },
    {
     "data": {
      "text/plain": [
       "<keras.callbacks.History at 0x251a1693d08>"
      ]
     },
     "execution_count": 119,
     "metadata": {},
     "output_type": "execute_result"
    }
   ],
   "source": [
    "model.fit(np.array(features),labels, epochs=50 , batch_size=1 , validation_split=0.2)"
   ]
  },
  {
   "cell_type": "code",
   "execution_count": 120,
   "metadata": {},
   "outputs": [
    {
     "name": "stderr",
     "output_type": "stream",
     "text": [
      "WARNING:absl:Found untraced functions such as _update_step_xla, lstm_cell_41_layer_call_fn, lstm_cell_41_layer_call_and_return_conditional_losses, lstm_cell_42_layer_call_fn, lstm_cell_42_layer_call_and_return_conditional_losses while saving (showing 5 of 5). These functions will not be directly callable after loading.\n"
     ]
    },
    {
     "name": "stdout",
     "output_type": "stream",
     "text": [
      "INFO:tensorflow:Assets written to: pose_model_2\\assets\n"
     ]
    },
    {
     "name": "stderr",
     "output_type": "stream",
     "text": [
      "INFO:tensorflow:Assets written to: pose_model_2\\assets\n"
     ]
    }
   ],
   "source": [
    "model.save(\"pose_model_2\")"
   ]
  }
 ],
 "metadata": {
  "kernelspec": {
   "display_name": "myenv",
   "language": "python",
   "name": "python3"
  },
  "language_info": {
   "codemirror_mode": {
    "name": "ipython",
    "version": 3
   },
   "file_extension": ".py",
   "mimetype": "text/x-python",
   "name": "python",
   "nbconvert_exporter": "python",
   "pygments_lexer": "ipython3",
   "version": "3.7.9"
  }
 },
 "nbformat": 4,
 "nbformat_minor": 2
}
